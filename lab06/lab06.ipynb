{
  "cells": [
    {
      "cell_type": "markdown",
      "id": "2a2815b0",
      "metadata": {
        "id": "2a2815b0"
      },
      "source": [
        " <font size=6> **实验6 决策树**</font>"
      ]
    },
    {
      "cell_type": "markdown",
      "id": "0b5e5bd7",
      "metadata": {
        "id": "0b5e5bd7"
      },
      "source": [
        "- 理解决策树(DT)概念，特点和三种基本类型；\n",
        "- 理解ID3、C4.5、CART三种算法的基本原理、适用场景，掌握熵、条件熵、信息增益、信息增益比、基尼指数等指标的含义及计算方法；\n",
        "- 掌握DecisionTreeClassifier的基本用法；\n",
        "- 理解决策树可视化操作的基本步骤。\n"
      ]
    },
    {
      "cell_type": "markdown",
      "id": "edd19811",
      "metadata": {
        "id": "edd19811"
      },
      "source": [
        "# 题目1\n",
        "请根据以下数据集内容，列表计算相关指标"
      ]
    },
    {
      "cell_type": "code",
      "source": [
        "import pandas as pd\n",
        "data = pd.read_csv('AllElectronics.csv')"
      ],
      "metadata": {
        "id": "5ge1ASPwC8FP"
      },
      "id": "5ge1ASPwC8FP",
      "execution_count": null,
      "outputs": []
    },
    {
      "cell_type": "markdown",
      "id": "5d4fdf1a",
      "metadata": {
        "id": "5d4fdf1a"
      },
      "source": [
        "## 信息增益比"
      ]
    },
    {
      "cell_type": "markdown",
      "id": "3d056c43",
      "metadata": {
        "id": "3d056c43"
      },
      "source": [
        "**（1）特征“有工作”、“有自己的房子”、“信贷情况”的信息增益比**  "
      ]
    },
    {
      "cell_type": "markdown",
      "id": "d1d4e477",
      "metadata": {
        "id": "d1d4e477"
      },
      "source": [
        "### “有工作”的信息增益比\n",
        "\n",
        "计算经验熵  \n",
        "$H(D) = -\\dfrac{9}{15}\\log_2\\dfrac{9}{15} - \\dfrac{6}{15} \\log_2\\dfrac{6}{15}$\n"
      ]
    },
    {
      "cell_type": "code",
      "execution_count": null,
      "id": "430eded9",
      "metadata": {
        "colab": {
          "base_uri": "https://localhost:8080/"
        },
        "id": "430eded9",
        "outputId": "67b3e954-a583-49cd-c9d9-08e75eb46db8"
      },
      "outputs": [
        {
          "output_type": "execute_result",
          "data": {
            "text/plain": [
              "0.9709505944546686"
            ]
          },
          "metadata": {},
          "execution_count": 33
        }
      ],
      "source": [
        "import numpy as np\n",
        "\n",
        "-9/15*np.log2(9/15) - 6/15*np.log2(6/15)"
      ]
    },
    {
      "cell_type": "markdown",
      "id": "8941213c",
      "metadata": {
        "id": "8941213c"
      },
      "source": [
        "计算条件熵  \n",
        "$H(D|有工作) = \\dfrac{5}{15} \\times 0 + \\dfrac{10}{15} \\times ( -\\dfrac{6}{10}  log_2\\dfrac{6}{10} - \\dfrac{4}{10} log_2\\dfrac{4}{10} )$"
      ]
    },
    {
      "cell_type": "code",
      "execution_count": null,
      "id": "41eca4e1",
      "metadata": {
        "colab": {
          "base_uri": "https://localhost:8080/"
        },
        "id": "41eca4e1",
        "outputId": "02b9d8c3-53dd-4b60-8625-bc46991374ee"
      },
      "outputs": [
        {
          "output_type": "execute_result",
          "data": {
            "text/plain": [
              "0.6473003963031123"
            ]
          },
          "metadata": {},
          "execution_count": 34
        }
      ],
      "source": [
        "5/15 * 0 + 10/15 * ( -6/10 * np.log2(6/10) - 4/10 * np.log2(4/10) )"
      ]
    },
    {
      "cell_type": "markdown",
      "id": "c43b5e11",
      "metadata": {
        "id": "c43b5e11"
      },
      "source": [
        "计算分母  \n",
        "$H有工作(D) = -\\dfrac{10}{15}\\log_2\\dfrac{10}{15} - \\dfrac{5}{15} \\log_2\\dfrac{5\n",
        " }{15}$"
      ]
    },
    {
      "cell_type": "code",
      "execution_count": null,
      "id": "a4c573e7",
      "metadata": {
        "colab": {
          "base_uri": "https://localhost:8080/"
        },
        "id": "a4c573e7",
        "outputId": "777b4ed4-c151-463c-b702-ffce4039b73e"
      },
      "outputs": [
        {
          "output_type": "execute_result",
          "data": {
            "text/plain": [
              "0.9182958340544896"
            ]
          },
          "metadata": {},
          "execution_count": 35
        }
      ],
      "source": [
        "-10/15*np.log2(10/15) - 5/15*np.log2(5/15)"
      ]
    },
    {
      "cell_type": "markdown",
      "id": "c4ce03eb",
      "metadata": {
        "id": "c4ce03eb"
      },
      "source": [
        "\"有工作\"的信息增益比   $\\dfrac{𝐻(𝐷) - H(D|有工作)} {𝐻有工作(𝐷)}$"
      ]
    },
    {
      "cell_type": "code",
      "execution_count": null,
      "id": "3c85cc69",
      "metadata": {
        "colab": {
          "base_uri": "https://localhost:8080/"
        },
        "id": "3c85cc69",
        "outputId": "051a6d04-af8d-48b5-decd-165eb698bd51"
      },
      "outputs": [
        {
          "output_type": "execute_result",
          "data": {
            "text/plain": [
              "0.35249918327344004"
            ]
          },
          "metadata": {},
          "execution_count": 36
        }
      ],
      "source": [
        "(0.971 - 0.6473) / 0.9183"
      ]
    },
    {
      "cell_type": "markdown",
      "id": "58852958",
      "metadata": {
        "id": "58852958"
      },
      "source": [
        "- 特征“有工作”的信息增益比 = 0.3525"
      ]
    },
    {
      "cell_type": "markdown",
      "id": "129a2ac9",
      "metadata": {
        "id": "129a2ac9"
      },
      "source": [
        "### “有自己的房子”的信息增益比"
      ]
    },
    {
      "cell_type": "code",
      "execution_count": null,
      "id": "ffd6e919",
      "metadata": {
        "colab": {
          "base_uri": "https://localhost:8080/"
        },
        "id": "ffd6e919",
        "outputId": "083ee4d3-2ba7-4e48-a654-f96cf066f80e"
      },
      "outputs": [
        {
          "output_type": "execute_result",
          "data": {
            "text/plain": [
              "0.35880277729700694"
            ]
          },
          "metadata": {},
          "execution_count": 37
        }
      ],
      "source": [
        "0.971-(6/15 * 0 + 10/15 * ( -6/9 * np.log2(6/9) - 3/9 * np.log2(3/9) ))"
      ]
    },
    {
      "cell_type": "code",
      "source": [
        "-9/15*np.log2(9/15) - 6/15*np.log2(6/15)"
      ],
      "metadata": {
        "colab": {
          "base_uri": "https://localhost:8080/"
        },
        "id": "7pBJu71RDxoa",
        "outputId": "cce3ca7d-4a56-4fcd-e4b0-1fcf45953748"
      },
      "id": "7pBJu71RDxoa",
      "execution_count": null,
      "outputs": [
        {
          "output_type": "execute_result",
          "data": {
            "text/plain": [
              "0.9709505944546686"
            ]
          },
          "metadata": {},
          "execution_count": 38
        }
      ]
    },
    {
      "cell_type": "code",
      "source": [
        "(0.971 - (6/15 * 0 + 10/15 * ( -6/9 * np.log2(6/9) - 3/9 * np.log2(3/9) ))) / (-9/15*np.log2(9/15) - 6/15*np.log2(6/15))"
      ],
      "metadata": {
        "colab": {
          "base_uri": "https://localhost:8080/"
        },
        "id": "q4oi_LZcD06t",
        "outputId": "a13743c1-cf5f-45be-c43f-ebcd946ab115"
      },
      "id": "q4oi_LZcD06t",
      "execution_count": null,
      "outputs": [
        {
          "output_type": "execute_result",
          "data": {
            "text/plain": [
              "0.36953762564873593"
            ]
          },
          "metadata": {},
          "execution_count": 39
        }
      ]
    },
    {
      "cell_type": "markdown",
      "id": "837e2d20",
      "metadata": {
        "id": "837e2d20"
      },
      "source": [
        "### “信贷情况”的信息增益比"
      ]
    },
    {
      "cell_type": "code",
      "source": [
        "-(5/14)*np.log2(5/14)-(9/14)*np.log2(9/14)"
      ],
      "metadata": {
        "colab": {
          "base_uri": "https://localhost:8080/"
        },
        "id": "7axcWL0CI9Tu",
        "outputId": "ef24efa2-6f49-40c9-a64c-ae74537c6d2a"
      },
      "id": "7axcWL0CI9Tu",
      "execution_count": null,
      "outputs": [
        {
          "output_type": "execute_result",
          "data": {
            "text/plain": [
              "0.9402859586706311"
            ]
          },
          "metadata": {},
          "execution_count": 40
        }
      ]
    },
    {
      "cell_type": "code",
      "source": [
        "(5/14)*(-(2/5)*np.log2(2/5)-(3/5)*np.log2(3/5))+(5/14)*(-(3/5)*np.log2(3/5)-(2/5)*np.log2(2/5))+(4/14)*(-(3/4)*np.log2(3/4)-(1/4)*np.log2(1/4))"
      ],
      "metadata": {
        "colab": {
          "base_uri": "https://localhost:8080/"
        },
        "id": "29g6eoR2oqkz",
        "outputId": "d2792afa-08aa-4991-8c60-bf723c282092"
      },
      "id": "29g6eoR2oqkz",
      "execution_count": null,
      "outputs": [
        {
          "output_type": "execute_result",
          "data": {
            "text/plain": [
              "0.9253298887416583"
            ]
          },
          "metadata": {},
          "execution_count": 41
        }
      ]
    },
    {
      "cell_type": "code",
      "source": [
        "(-(5/14)*np.log2(5/14)-(9/14)*np.log2(9/14))-((5/14)*(-(2/5)*np.log2(2/5)-(3/5)*np.log2(3/5))+(5/14)*(-(3/5)*np.log2(3/5)-(2/5)*np.log2(2/5))+(4/14)*(-(3/4)*np.log2(3/4)-(1/4)*np.log2(1/4)))"
      ],
      "metadata": {
        "colab": {
          "base_uri": "https://localhost:8080/"
        },
        "id": "vq0vI_XYpDC-",
        "outputId": "a68ea007-95fa-4aa9-82a3-458c1870bc1c"
      },
      "id": "vq0vI_XYpDC-",
      "execution_count": null,
      "outputs": [
        {
          "output_type": "execute_result",
          "data": {
            "text/plain": [
              "0.014956069928972804"
            ]
          },
          "metadata": {},
          "execution_count": 42
        }
      ]
    },
    {
      "cell_type": "markdown",
      "id": "5a2388fa",
      "metadata": {
        "id": "5a2388fa"
      },
      "source": [
        "## 基尼指数"
      ]
    },
    {
      "cell_type": "markdown",
      "id": "1480bb53",
      "metadata": {
        "id": "1480bb53"
      },
      "source": [
        "**（2）特征“有工作”、“有自己的房子”、“信贷情况”的基尼指数**"
      ]
    },
    {
      "cell_type": "markdown",
      "id": "e7bc17e7",
      "metadata": {
        "id": "e7bc17e7"
      },
      "source": [
        "### “有工作”的基尼指数"
      ]
    },
    {
      "cell_type": "markdown",
      "id": "bf247d27",
      "metadata": {
        "id": "bf247d27"
      },
      "source": [
        "Gini(有工作=是) = 0"
      ]
    },
    {
      "cell_type": "markdown",
      "id": "c28550a5",
      "metadata": {
        "id": "c28550a5"
      },
      "source": [
        "Gini(有工作=否) = 6/10 * 4/10 * 2\n",
        "\n"
      ]
    },
    {
      "cell_type": "markdown",
      "id": "aaeef3a6",
      "metadata": {
        "id": "aaeef3a6"
      },
      "source": [
        "Gini(有工作) = 5/15 * 0 + 10/15 * (6/10 * 4/10 *2)"
      ]
    },
    {
      "cell_type": "code",
      "execution_count": null,
      "id": "22bf7850",
      "metadata": {
        "id": "22bf7850",
        "outputId": "81b72b57-a26d-40d4-98ef-0bfad49d45e2",
        "colab": {
          "base_uri": "https://localhost:8080/"
        }
      },
      "outputs": [
        {
          "output_type": "execute_result",
          "data": {
            "text/plain": [
              "0.31999999999999995"
            ]
          },
          "metadata": {},
          "execution_count": 43
        }
      ],
      "source": [
        "5/15 * 0 + 10/15 * (6/10 * 4/10 *2)"
      ]
    },
    {
      "cell_type": "markdown",
      "id": "7936c67e",
      "metadata": {
        "id": "7936c67e"
      },
      "source": [
        "特征“有工作”的基尼指数 = 0.32"
      ]
    },
    {
      "cell_type": "markdown",
      "id": "8723075a",
      "metadata": {
        "id": "8723075a"
      },
      "source": [
        "### “有自己的房子”的基尼指数"
      ]
    },
    {
      "cell_type": "code",
      "execution_count": null,
      "id": "2d238264",
      "metadata": {
        "id": "2d238264",
        "colab": {
          "base_uri": "https://localhost:8080/"
        },
        "outputId": "4000ba58-64ba-4f04-801b-0cf2ede352cd"
      },
      "outputs": [
        {
          "output_type": "execute_result",
          "data": {
            "text/plain": [
              "0.49777777777777776"
            ]
          },
          "metadata": {},
          "execution_count": 44
        }
      ],
      "source": [
        "1 - ((7/15)**2 + (8/15)**2)"
      ]
    },
    {
      "cell_type": "markdown",
      "id": "0f057a63",
      "metadata": {
        "id": "0f057a63"
      },
      "source": [
        "### “信贷情况”的基尼指数"
      ]
    },
    {
      "cell_type": "code",
      "execution_count": null,
      "id": "4ef647c7",
      "metadata": {
        "id": "4ef647c7",
        "colab": {
          "base_uri": "https://localhost:8080/"
        },
        "outputId": "f8305a6b-e2cd-483c-f0b8-6f77ef67227f"
      },
      "outputs": [
        {
          "output_type": "execute_result",
          "data": {
            "text/plain": [
              "0.48"
            ]
          },
          "metadata": {},
          "execution_count": 45
        }
      ],
      "source": [
        "1- ((3/5)**2 + (2/5)**2)"
      ]
    },
    {
      "cell_type": "markdown",
      "id": "88caa157",
      "metadata": {
        "id": "88caa157"
      },
      "source": [
        "### “信贷情况-一般”的基尼指数  \n",
        "(二叉树）"
      ]
    },
    {
      "cell_type": "code",
      "execution_count": null,
      "id": "8b4624fe",
      "metadata": {
        "id": "8b4624fe",
        "colab": {
          "base_uri": "https://localhost:8080/"
        },
        "outputId": "6c6ce63e-7160-4905-da8e-e8fbb0fdd5f5"
      },
      "outputs": [
        {
          "output_type": "execute_result",
          "data": {
            "text/plain": [
              "0.46875"
            ]
          },
          "metadata": {},
          "execution_count": 46
        }
      ],
      "source": [
        "1 - ((3/(3+5))**2 + (5/(3+5))** 2)"
      ]
    },
    {
      "cell_type": "markdown",
      "id": "0f17acea",
      "metadata": {
        "id": "0f17acea"
      },
      "source": [
        "# 题目2\n",
        "data.csv文件中存储着一批数据，如第1题所示图形，\t请用pandas加载数据文件，再进行数据预预处理(可考虑LabelEncoder或DictVectorizer)；再使用sklearn中DecisionTreeClassifier进行分类；并用plot_tree()或graphviz实现决策树可视化。"
      ]
    },
    {
      "cell_type": "markdown",
      "id": "13031b5e",
      "metadata": {
        "id": "13031b5e"
      },
      "source": [
        "## 导入库"
      ]
    },
    {
      "cell_type": "code",
      "execution_count": null,
      "id": "1c62c35d",
      "metadata": {
        "id": "1c62c35d"
      },
      "outputs": [],
      "source": [
        "import pandas as pd\n",
        "from sklearn.preprocessing import LabelEncoder\n",
        "from sklearn.tree import DecisionTreeClassifier, plot_tree"
      ]
    },
    {
      "cell_type": "markdown",
      "id": "574c6d51",
      "metadata": {
        "id": "574c6d51"
      },
      "source": [
        "## 数据处理"
      ]
    },
    {
      "cell_type": "markdown",
      "id": "6570d5e0",
      "metadata": {
        "id": "6570d5e0"
      },
      "source": [
        "### 数据获取"
      ]
    },
    {
      "cell_type": "code",
      "execution_count": null,
      "id": "48511f78",
      "metadata": {
        "colab": {
          "base_uri": "https://localhost:8080/",
          "height": 206
        },
        "id": "48511f78",
        "outputId": "40e3a823-affb-434c-8150-f296ce688276"
      },
      "outputs": [
        {
          "output_type": "execute_result",
          "data": {
            "text/plain": [
              "   RID          age  income student credit_rating class_buys_computer\n",
              "0    1        youth    high      no          fair                  no\n",
              "1    2        youth    high      no     excellent                  no\n",
              "2    3  middle_aged    high      no          fair                 yes\n",
              "3    4       senior  medium      no          fair                 yes\n",
              "4    5       senior     low     yes          fair                 yes"
            ],
            "text/html": [
              "\n",
              "  <div id=\"df-b8c3091c-bfc0-41e2-a5c8-fee9924268b7\" class=\"colab-df-container\">\n",
              "    <div>\n",
              "<style scoped>\n",
              "    .dataframe tbody tr th:only-of-type {\n",
              "        vertical-align: middle;\n",
              "    }\n",
              "\n",
              "    .dataframe tbody tr th {\n",
              "        vertical-align: top;\n",
              "    }\n",
              "\n",
              "    .dataframe thead th {\n",
              "        text-align: right;\n",
              "    }\n",
              "</style>\n",
              "<table border=\"1\" class=\"dataframe\">\n",
              "  <thead>\n",
              "    <tr style=\"text-align: right;\">\n",
              "      <th></th>\n",
              "      <th>RID</th>\n",
              "      <th>age</th>\n",
              "      <th>income</th>\n",
              "      <th>student</th>\n",
              "      <th>credit_rating</th>\n",
              "      <th>class_buys_computer</th>\n",
              "    </tr>\n",
              "  </thead>\n",
              "  <tbody>\n",
              "    <tr>\n",
              "      <th>0</th>\n",
              "      <td>1</td>\n",
              "      <td>youth</td>\n",
              "      <td>high</td>\n",
              "      <td>no</td>\n",
              "      <td>fair</td>\n",
              "      <td>no</td>\n",
              "    </tr>\n",
              "    <tr>\n",
              "      <th>1</th>\n",
              "      <td>2</td>\n",
              "      <td>youth</td>\n",
              "      <td>high</td>\n",
              "      <td>no</td>\n",
              "      <td>excellent</td>\n",
              "      <td>no</td>\n",
              "    </tr>\n",
              "    <tr>\n",
              "      <th>2</th>\n",
              "      <td>3</td>\n",
              "      <td>middle_aged</td>\n",
              "      <td>high</td>\n",
              "      <td>no</td>\n",
              "      <td>fair</td>\n",
              "      <td>yes</td>\n",
              "    </tr>\n",
              "    <tr>\n",
              "      <th>3</th>\n",
              "      <td>4</td>\n",
              "      <td>senior</td>\n",
              "      <td>medium</td>\n",
              "      <td>no</td>\n",
              "      <td>fair</td>\n",
              "      <td>yes</td>\n",
              "    </tr>\n",
              "    <tr>\n",
              "      <th>4</th>\n",
              "      <td>5</td>\n",
              "      <td>senior</td>\n",
              "      <td>low</td>\n",
              "      <td>yes</td>\n",
              "      <td>fair</td>\n",
              "      <td>yes</td>\n",
              "    </tr>\n",
              "  </tbody>\n",
              "</table>\n",
              "</div>\n",
              "    <div class=\"colab-df-buttons\">\n",
              "\n",
              "  <div class=\"colab-df-container\">\n",
              "    <button class=\"colab-df-convert\" onclick=\"convertToInteractive('df-b8c3091c-bfc0-41e2-a5c8-fee9924268b7')\"\n",
              "            title=\"Convert this dataframe to an interactive table.\"\n",
              "            style=\"display:none;\">\n",
              "\n",
              "  <svg xmlns=\"http://www.w3.org/2000/svg\" height=\"24px\" viewBox=\"0 -960 960 960\">\n",
              "    <path d=\"M120-120v-720h720v720H120Zm60-500h600v-160H180v160Zm220 220h160v-160H400v160Zm0 220h160v-160H400v160ZM180-400h160v-160H180v160Zm440 0h160v-160H620v160ZM180-180h160v-160H180v160Zm440 0h160v-160H620v160Z\"/>\n",
              "  </svg>\n",
              "    </button>\n",
              "\n",
              "  <style>\n",
              "    .colab-df-container {\n",
              "      display:flex;\n",
              "      gap: 12px;\n",
              "    }\n",
              "\n",
              "    .colab-df-convert {\n",
              "      background-color: #E8F0FE;\n",
              "      border: none;\n",
              "      border-radius: 50%;\n",
              "      cursor: pointer;\n",
              "      display: none;\n",
              "      fill: #1967D2;\n",
              "      height: 32px;\n",
              "      padding: 0 0 0 0;\n",
              "      width: 32px;\n",
              "    }\n",
              "\n",
              "    .colab-df-convert:hover {\n",
              "      background-color: #E2EBFA;\n",
              "      box-shadow: 0px 1px 2px rgba(60, 64, 67, 0.3), 0px 1px 3px 1px rgba(60, 64, 67, 0.15);\n",
              "      fill: #174EA6;\n",
              "    }\n",
              "\n",
              "    .colab-df-buttons div {\n",
              "      margin-bottom: 4px;\n",
              "    }\n",
              "\n",
              "    [theme=dark] .colab-df-convert {\n",
              "      background-color: #3B4455;\n",
              "      fill: #D2E3FC;\n",
              "    }\n",
              "\n",
              "    [theme=dark] .colab-df-convert:hover {\n",
              "      background-color: #434B5C;\n",
              "      box-shadow: 0px 1px 3px 1px rgba(0, 0, 0, 0.15);\n",
              "      filter: drop-shadow(0px 1px 2px rgba(0, 0, 0, 0.3));\n",
              "      fill: #FFFFFF;\n",
              "    }\n",
              "  </style>\n",
              "\n",
              "    <script>\n",
              "      const buttonEl =\n",
              "        document.querySelector('#df-b8c3091c-bfc0-41e2-a5c8-fee9924268b7 button.colab-df-convert');\n",
              "      buttonEl.style.display =\n",
              "        google.colab.kernel.accessAllowed ? 'block' : 'none';\n",
              "\n",
              "      async function convertToInteractive(key) {\n",
              "        const element = document.querySelector('#df-b8c3091c-bfc0-41e2-a5c8-fee9924268b7');\n",
              "        const dataTable =\n",
              "          await google.colab.kernel.invokeFunction('convertToInteractive',\n",
              "                                                    [key], {});\n",
              "        if (!dataTable) return;\n",
              "\n",
              "        const docLinkHtml = 'Like what you see? Visit the ' +\n",
              "          '<a target=\"_blank\" href=https://colab.research.google.com/notebooks/data_table.ipynb>data table notebook</a>'\n",
              "          + ' to learn more about interactive tables.';\n",
              "        element.innerHTML = '';\n",
              "        dataTable['output_type'] = 'display_data';\n",
              "        await google.colab.output.renderOutput(dataTable, element);\n",
              "        const docLink = document.createElement('div');\n",
              "        docLink.innerHTML = docLinkHtml;\n",
              "        element.appendChild(docLink);\n",
              "      }\n",
              "    </script>\n",
              "  </div>\n",
              "\n",
              "\n",
              "<div id=\"df-fbc77166-b865-4569-8aab-134457a3c5b7\">\n",
              "  <button class=\"colab-df-quickchart\" onclick=\"quickchart('df-fbc77166-b865-4569-8aab-134457a3c5b7')\"\n",
              "            title=\"Suggest charts\"\n",
              "            style=\"display:none;\">\n",
              "\n",
              "<svg xmlns=\"http://www.w3.org/2000/svg\" height=\"24px\"viewBox=\"0 0 24 24\"\n",
              "     width=\"24px\">\n",
              "    <g>\n",
              "        <path d=\"M19 3H5c-1.1 0-2 .9-2 2v14c0 1.1.9 2 2 2h14c1.1 0 2-.9 2-2V5c0-1.1-.9-2-2-2zM9 17H7v-7h2v7zm4 0h-2V7h2v10zm4 0h-2v-4h2v4z\"/>\n",
              "    </g>\n",
              "</svg>\n",
              "  </button>\n",
              "\n",
              "<style>\n",
              "  .colab-df-quickchart {\n",
              "      --bg-color: #E8F0FE;\n",
              "      --fill-color: #1967D2;\n",
              "      --hover-bg-color: #E2EBFA;\n",
              "      --hover-fill-color: #174EA6;\n",
              "      --disabled-fill-color: #AAA;\n",
              "      --disabled-bg-color: #DDD;\n",
              "  }\n",
              "\n",
              "  [theme=dark] .colab-df-quickchart {\n",
              "      --bg-color: #3B4455;\n",
              "      --fill-color: #D2E3FC;\n",
              "      --hover-bg-color: #434B5C;\n",
              "      --hover-fill-color: #FFFFFF;\n",
              "      --disabled-bg-color: #3B4455;\n",
              "      --disabled-fill-color: #666;\n",
              "  }\n",
              "\n",
              "  .colab-df-quickchart {\n",
              "    background-color: var(--bg-color);\n",
              "    border: none;\n",
              "    border-radius: 50%;\n",
              "    cursor: pointer;\n",
              "    display: none;\n",
              "    fill: var(--fill-color);\n",
              "    height: 32px;\n",
              "    padding: 0;\n",
              "    width: 32px;\n",
              "  }\n",
              "\n",
              "  .colab-df-quickchart:hover {\n",
              "    background-color: var(--hover-bg-color);\n",
              "    box-shadow: 0 1px 2px rgba(60, 64, 67, 0.3), 0 1px 3px 1px rgba(60, 64, 67, 0.15);\n",
              "    fill: var(--button-hover-fill-color);\n",
              "  }\n",
              "\n",
              "  .colab-df-quickchart-complete:disabled,\n",
              "  .colab-df-quickchart-complete:disabled:hover {\n",
              "    background-color: var(--disabled-bg-color);\n",
              "    fill: var(--disabled-fill-color);\n",
              "    box-shadow: none;\n",
              "  }\n",
              "\n",
              "  .colab-df-spinner {\n",
              "    border: 2px solid var(--fill-color);\n",
              "    border-color: transparent;\n",
              "    border-bottom-color: var(--fill-color);\n",
              "    animation:\n",
              "      spin 1s steps(1) infinite;\n",
              "  }\n",
              "\n",
              "  @keyframes spin {\n",
              "    0% {\n",
              "      border-color: transparent;\n",
              "      border-bottom-color: var(--fill-color);\n",
              "      border-left-color: var(--fill-color);\n",
              "    }\n",
              "    20% {\n",
              "      border-color: transparent;\n",
              "      border-left-color: var(--fill-color);\n",
              "      border-top-color: var(--fill-color);\n",
              "    }\n",
              "    30% {\n",
              "      border-color: transparent;\n",
              "      border-left-color: var(--fill-color);\n",
              "      border-top-color: var(--fill-color);\n",
              "      border-right-color: var(--fill-color);\n",
              "    }\n",
              "    40% {\n",
              "      border-color: transparent;\n",
              "      border-right-color: var(--fill-color);\n",
              "      border-top-color: var(--fill-color);\n",
              "    }\n",
              "    60% {\n",
              "      border-color: transparent;\n",
              "      border-right-color: var(--fill-color);\n",
              "    }\n",
              "    80% {\n",
              "      border-color: transparent;\n",
              "      border-right-color: var(--fill-color);\n",
              "      border-bottom-color: var(--fill-color);\n",
              "    }\n",
              "    90% {\n",
              "      border-color: transparent;\n",
              "      border-bottom-color: var(--fill-color);\n",
              "    }\n",
              "  }\n",
              "</style>\n",
              "\n",
              "  <script>\n",
              "    async function quickchart(key) {\n",
              "      const quickchartButtonEl =\n",
              "        document.querySelector('#' + key + ' button');\n",
              "      quickchartButtonEl.disabled = true;  // To prevent multiple clicks.\n",
              "      quickchartButtonEl.classList.add('colab-df-spinner');\n",
              "      try {\n",
              "        const charts = await google.colab.kernel.invokeFunction(\n",
              "            'suggestCharts', [key], {});\n",
              "      } catch (error) {\n",
              "        console.error('Error during call to suggestCharts:', error);\n",
              "      }\n",
              "      quickchartButtonEl.classList.remove('colab-df-spinner');\n",
              "      quickchartButtonEl.classList.add('colab-df-quickchart-complete');\n",
              "    }\n",
              "    (() => {\n",
              "      let quickchartButtonEl =\n",
              "        document.querySelector('#df-fbc77166-b865-4569-8aab-134457a3c5b7 button');\n",
              "      quickchartButtonEl.style.display =\n",
              "        google.colab.kernel.accessAllowed ? 'block' : 'none';\n",
              "    })();\n",
              "  </script>\n",
              "</div>\n",
              "\n",
              "    </div>\n",
              "  </div>\n"
            ],
            "application/vnd.google.colaboratory.intrinsic+json": {
              "type": "dataframe",
              "variable_name": "df",
              "summary": "{\n  \"name\": \"df\",\n  \"rows\": 14,\n  \"fields\": [\n    {\n      \"column\": \"RID\",\n      \"properties\": {\n        \"dtype\": \"number\",\n        \"std\": 4,\n        \"min\": 1,\n        \"max\": 14,\n        \"num_unique_values\": 14,\n        \"samples\": [\n          10,\n          12,\n          1\n        ],\n        \"semantic_type\": \"\",\n        \"description\": \"\"\n      }\n    },\n    {\n      \"column\": \"age\",\n      \"properties\": {\n        \"dtype\": \"category\",\n        \"num_unique_values\": 3,\n        \"samples\": [\n          \"youth\",\n          \"middle_aged\",\n          \"senior\"\n        ],\n        \"semantic_type\": \"\",\n        \"description\": \"\"\n      }\n    },\n    {\n      \"column\": \"income\",\n      \"properties\": {\n        \"dtype\": \"category\",\n        \"num_unique_values\": 3,\n        \"samples\": [\n          \"high\",\n          \"medium\",\n          \"low\"\n        ],\n        \"semantic_type\": \"\",\n        \"description\": \"\"\n      }\n    },\n    {\n      \"column\": \"student\",\n      \"properties\": {\n        \"dtype\": \"category\",\n        \"num_unique_values\": 2,\n        \"samples\": [\n          \"yes\",\n          \"no\"\n        ],\n        \"semantic_type\": \"\",\n        \"description\": \"\"\n      }\n    },\n    {\n      \"column\": \"credit_rating\",\n      \"properties\": {\n        \"dtype\": \"category\",\n        \"num_unique_values\": 2,\n        \"samples\": [\n          \"excellent\",\n          \"fair\"\n        ],\n        \"semantic_type\": \"\",\n        \"description\": \"\"\n      }\n    },\n    {\n      \"column\": \"class_buys_computer\",\n      \"properties\": {\n        \"dtype\": \"category\",\n        \"num_unique_values\": 2,\n        \"samples\": [\n          \"yes\",\n          \"no\"\n        ],\n        \"semantic_type\": \"\",\n        \"description\": \"\"\n      }\n    }\n  ]\n}"
            }
          },
          "metadata": {},
          "execution_count": 48
        }
      ],
      "source": [
        "df = pd.read_csv('AllElectronics.csv')\n",
        "df.head()"
      ]
    },
    {
      "cell_type": "markdown",
      "id": "459656dc",
      "metadata": {
        "id": "459656dc"
      },
      "source": [
        "### 特征编码"
      ]
    },
    {
      "cell_type": "code",
      "source": [
        "df.columns[1:-1]"
      ],
      "metadata": {
        "colab": {
          "base_uri": "https://localhost:8080/"
        },
        "id": "Gd147kVzFFZl",
        "outputId": "7d14dab1-877a-4398-d878-45390b87584a"
      },
      "id": "Gd147kVzFFZl",
      "execution_count": null,
      "outputs": [
        {
          "output_type": "execute_result",
          "data": {
            "text/plain": [
              "Index(['age', 'income', 'student', 'credit_rating'], dtype='object')"
            ]
          },
          "metadata": {},
          "execution_count": 49
        }
      ]
    },
    {
      "cell_type": "code",
      "execution_count": null,
      "id": "ee9afbd7",
      "metadata": {
        "colab": {
          "base_uri": "https://localhost:8080/",
          "height": 206
        },
        "id": "ee9afbd7",
        "outputId": "c15d70f5-f17e-4501-84ed-79646cb1c04a"
      },
      "outputs": [
        {
          "output_type": "execute_result",
          "data": {
            "text/plain": [
              "   RID  age  income  student  credit_rating class_buys_computer\n",
              "0    1    2       0        0              1                  no\n",
              "1    2    2       0        0              0                  no\n",
              "2    3    0       0        0              1                 yes\n",
              "3    4    1       2        0              1                 yes\n",
              "4    5    1       1        1              1                 yes"
            ],
            "text/html": [
              "\n",
              "  <div id=\"df-546bfafe-f94d-4f69-b693-40878e964d55\" class=\"colab-df-container\">\n",
              "    <div>\n",
              "<style scoped>\n",
              "    .dataframe tbody tr th:only-of-type {\n",
              "        vertical-align: middle;\n",
              "    }\n",
              "\n",
              "    .dataframe tbody tr th {\n",
              "        vertical-align: top;\n",
              "    }\n",
              "\n",
              "    .dataframe thead th {\n",
              "        text-align: right;\n",
              "    }\n",
              "</style>\n",
              "<table border=\"1\" class=\"dataframe\">\n",
              "  <thead>\n",
              "    <tr style=\"text-align: right;\">\n",
              "      <th></th>\n",
              "      <th>RID</th>\n",
              "      <th>age</th>\n",
              "      <th>income</th>\n",
              "      <th>student</th>\n",
              "      <th>credit_rating</th>\n",
              "      <th>class_buys_computer</th>\n",
              "    </tr>\n",
              "  </thead>\n",
              "  <tbody>\n",
              "    <tr>\n",
              "      <th>0</th>\n",
              "      <td>1</td>\n",
              "      <td>2</td>\n",
              "      <td>0</td>\n",
              "      <td>0</td>\n",
              "      <td>1</td>\n",
              "      <td>no</td>\n",
              "    </tr>\n",
              "    <tr>\n",
              "      <th>1</th>\n",
              "      <td>2</td>\n",
              "      <td>2</td>\n",
              "      <td>0</td>\n",
              "      <td>0</td>\n",
              "      <td>0</td>\n",
              "      <td>no</td>\n",
              "    </tr>\n",
              "    <tr>\n",
              "      <th>2</th>\n",
              "      <td>3</td>\n",
              "      <td>0</td>\n",
              "      <td>0</td>\n",
              "      <td>0</td>\n",
              "      <td>1</td>\n",
              "      <td>yes</td>\n",
              "    </tr>\n",
              "    <tr>\n",
              "      <th>3</th>\n",
              "      <td>4</td>\n",
              "      <td>1</td>\n",
              "      <td>2</td>\n",
              "      <td>0</td>\n",
              "      <td>1</td>\n",
              "      <td>yes</td>\n",
              "    </tr>\n",
              "    <tr>\n",
              "      <th>4</th>\n",
              "      <td>5</td>\n",
              "      <td>1</td>\n",
              "      <td>1</td>\n",
              "      <td>1</td>\n",
              "      <td>1</td>\n",
              "      <td>yes</td>\n",
              "    </tr>\n",
              "  </tbody>\n",
              "</table>\n",
              "</div>\n",
              "    <div class=\"colab-df-buttons\">\n",
              "\n",
              "  <div class=\"colab-df-container\">\n",
              "    <button class=\"colab-df-convert\" onclick=\"convertToInteractive('df-546bfafe-f94d-4f69-b693-40878e964d55')\"\n",
              "            title=\"Convert this dataframe to an interactive table.\"\n",
              "            style=\"display:none;\">\n",
              "\n",
              "  <svg xmlns=\"http://www.w3.org/2000/svg\" height=\"24px\" viewBox=\"0 -960 960 960\">\n",
              "    <path d=\"M120-120v-720h720v720H120Zm60-500h600v-160H180v160Zm220 220h160v-160H400v160Zm0 220h160v-160H400v160ZM180-400h160v-160H180v160Zm440 0h160v-160H620v160ZM180-180h160v-160H180v160Zm440 0h160v-160H620v160Z\"/>\n",
              "  </svg>\n",
              "    </button>\n",
              "\n",
              "  <style>\n",
              "    .colab-df-container {\n",
              "      display:flex;\n",
              "      gap: 12px;\n",
              "    }\n",
              "\n",
              "    .colab-df-convert {\n",
              "      background-color: #E8F0FE;\n",
              "      border: none;\n",
              "      border-radius: 50%;\n",
              "      cursor: pointer;\n",
              "      display: none;\n",
              "      fill: #1967D2;\n",
              "      height: 32px;\n",
              "      padding: 0 0 0 0;\n",
              "      width: 32px;\n",
              "    }\n",
              "\n",
              "    .colab-df-convert:hover {\n",
              "      background-color: #E2EBFA;\n",
              "      box-shadow: 0px 1px 2px rgba(60, 64, 67, 0.3), 0px 1px 3px 1px rgba(60, 64, 67, 0.15);\n",
              "      fill: #174EA6;\n",
              "    }\n",
              "\n",
              "    .colab-df-buttons div {\n",
              "      margin-bottom: 4px;\n",
              "    }\n",
              "\n",
              "    [theme=dark] .colab-df-convert {\n",
              "      background-color: #3B4455;\n",
              "      fill: #D2E3FC;\n",
              "    }\n",
              "\n",
              "    [theme=dark] .colab-df-convert:hover {\n",
              "      background-color: #434B5C;\n",
              "      box-shadow: 0px 1px 3px 1px rgba(0, 0, 0, 0.15);\n",
              "      filter: drop-shadow(0px 1px 2px rgba(0, 0, 0, 0.3));\n",
              "      fill: #FFFFFF;\n",
              "    }\n",
              "  </style>\n",
              "\n",
              "    <script>\n",
              "      const buttonEl =\n",
              "        document.querySelector('#df-546bfafe-f94d-4f69-b693-40878e964d55 button.colab-df-convert');\n",
              "      buttonEl.style.display =\n",
              "        google.colab.kernel.accessAllowed ? 'block' : 'none';\n",
              "\n",
              "      async function convertToInteractive(key) {\n",
              "        const element = document.querySelector('#df-546bfafe-f94d-4f69-b693-40878e964d55');\n",
              "        const dataTable =\n",
              "          await google.colab.kernel.invokeFunction('convertToInteractive',\n",
              "                                                    [key], {});\n",
              "        if (!dataTable) return;\n",
              "\n",
              "        const docLinkHtml = 'Like what you see? Visit the ' +\n",
              "          '<a target=\"_blank\" href=https://colab.research.google.com/notebooks/data_table.ipynb>data table notebook</a>'\n",
              "          + ' to learn more about interactive tables.';\n",
              "        element.innerHTML = '';\n",
              "        dataTable['output_type'] = 'display_data';\n",
              "        await google.colab.output.renderOutput(dataTable, element);\n",
              "        const docLink = document.createElement('div');\n",
              "        docLink.innerHTML = docLinkHtml;\n",
              "        element.appendChild(docLink);\n",
              "      }\n",
              "    </script>\n",
              "  </div>\n",
              "\n",
              "\n",
              "<div id=\"df-6f2db8c0-0458-4c29-a051-c8008a84f6a9\">\n",
              "  <button class=\"colab-df-quickchart\" onclick=\"quickchart('df-6f2db8c0-0458-4c29-a051-c8008a84f6a9')\"\n",
              "            title=\"Suggest charts\"\n",
              "            style=\"display:none;\">\n",
              "\n",
              "<svg xmlns=\"http://www.w3.org/2000/svg\" height=\"24px\"viewBox=\"0 0 24 24\"\n",
              "     width=\"24px\">\n",
              "    <g>\n",
              "        <path d=\"M19 3H5c-1.1 0-2 .9-2 2v14c0 1.1.9 2 2 2h14c1.1 0 2-.9 2-2V5c0-1.1-.9-2-2-2zM9 17H7v-7h2v7zm4 0h-2V7h2v10zm4 0h-2v-4h2v4z\"/>\n",
              "    </g>\n",
              "</svg>\n",
              "  </button>\n",
              "\n",
              "<style>\n",
              "  .colab-df-quickchart {\n",
              "      --bg-color: #E8F0FE;\n",
              "      --fill-color: #1967D2;\n",
              "      --hover-bg-color: #E2EBFA;\n",
              "      --hover-fill-color: #174EA6;\n",
              "      --disabled-fill-color: #AAA;\n",
              "      --disabled-bg-color: #DDD;\n",
              "  }\n",
              "\n",
              "  [theme=dark] .colab-df-quickchart {\n",
              "      --bg-color: #3B4455;\n",
              "      --fill-color: #D2E3FC;\n",
              "      --hover-bg-color: #434B5C;\n",
              "      --hover-fill-color: #FFFFFF;\n",
              "      --disabled-bg-color: #3B4455;\n",
              "      --disabled-fill-color: #666;\n",
              "  }\n",
              "\n",
              "  .colab-df-quickchart {\n",
              "    background-color: var(--bg-color);\n",
              "    border: none;\n",
              "    border-radius: 50%;\n",
              "    cursor: pointer;\n",
              "    display: none;\n",
              "    fill: var(--fill-color);\n",
              "    height: 32px;\n",
              "    padding: 0;\n",
              "    width: 32px;\n",
              "  }\n",
              "\n",
              "  .colab-df-quickchart:hover {\n",
              "    background-color: var(--hover-bg-color);\n",
              "    box-shadow: 0 1px 2px rgba(60, 64, 67, 0.3), 0 1px 3px 1px rgba(60, 64, 67, 0.15);\n",
              "    fill: var(--button-hover-fill-color);\n",
              "  }\n",
              "\n",
              "  .colab-df-quickchart-complete:disabled,\n",
              "  .colab-df-quickchart-complete:disabled:hover {\n",
              "    background-color: var(--disabled-bg-color);\n",
              "    fill: var(--disabled-fill-color);\n",
              "    box-shadow: none;\n",
              "  }\n",
              "\n",
              "  .colab-df-spinner {\n",
              "    border: 2px solid var(--fill-color);\n",
              "    border-color: transparent;\n",
              "    border-bottom-color: var(--fill-color);\n",
              "    animation:\n",
              "      spin 1s steps(1) infinite;\n",
              "  }\n",
              "\n",
              "  @keyframes spin {\n",
              "    0% {\n",
              "      border-color: transparent;\n",
              "      border-bottom-color: var(--fill-color);\n",
              "      border-left-color: var(--fill-color);\n",
              "    }\n",
              "    20% {\n",
              "      border-color: transparent;\n",
              "      border-left-color: var(--fill-color);\n",
              "      border-top-color: var(--fill-color);\n",
              "    }\n",
              "    30% {\n",
              "      border-color: transparent;\n",
              "      border-left-color: var(--fill-color);\n",
              "      border-top-color: var(--fill-color);\n",
              "      border-right-color: var(--fill-color);\n",
              "    }\n",
              "    40% {\n",
              "      border-color: transparent;\n",
              "      border-right-color: var(--fill-color);\n",
              "      border-top-color: var(--fill-color);\n",
              "    }\n",
              "    60% {\n",
              "      border-color: transparent;\n",
              "      border-right-color: var(--fill-color);\n",
              "    }\n",
              "    80% {\n",
              "      border-color: transparent;\n",
              "      border-right-color: var(--fill-color);\n",
              "      border-bottom-color: var(--fill-color);\n",
              "    }\n",
              "    90% {\n",
              "      border-color: transparent;\n",
              "      border-bottom-color: var(--fill-color);\n",
              "    }\n",
              "  }\n",
              "</style>\n",
              "\n",
              "  <script>\n",
              "    async function quickchart(key) {\n",
              "      const quickchartButtonEl =\n",
              "        document.querySelector('#' + key + ' button');\n",
              "      quickchartButtonEl.disabled = true;  // To prevent multiple clicks.\n",
              "      quickchartButtonEl.classList.add('colab-df-spinner');\n",
              "      try {\n",
              "        const charts = await google.colab.kernel.invokeFunction(\n",
              "            'suggestCharts', [key], {});\n",
              "      } catch (error) {\n",
              "        console.error('Error during call to suggestCharts:', error);\n",
              "      }\n",
              "      quickchartButtonEl.classList.remove('colab-df-spinner');\n",
              "      quickchartButtonEl.classList.add('colab-df-quickchart-complete');\n",
              "    }\n",
              "    (() => {\n",
              "      let quickchartButtonEl =\n",
              "        document.querySelector('#df-6f2db8c0-0458-4c29-a051-c8008a84f6a9 button');\n",
              "      quickchartButtonEl.style.display =\n",
              "        google.colab.kernel.accessAllowed ? 'block' : 'none';\n",
              "    })();\n",
              "  </script>\n",
              "</div>\n",
              "\n",
              "    </div>\n",
              "  </div>\n"
            ],
            "application/vnd.google.colaboratory.intrinsic+json": {
              "type": "dataframe",
              "variable_name": "df",
              "summary": "{\n  \"name\": \"df\",\n  \"rows\": 14,\n  \"fields\": [\n    {\n      \"column\": \"RID\",\n      \"properties\": {\n        \"dtype\": \"number\",\n        \"std\": 4,\n        \"min\": 1,\n        \"max\": 14,\n        \"num_unique_values\": 14,\n        \"samples\": [\n          10,\n          12,\n          1\n        ],\n        \"semantic_type\": \"\",\n        \"description\": \"\"\n      }\n    },\n    {\n      \"column\": \"age\",\n      \"properties\": {\n        \"dtype\": \"number\",\n        \"std\": 0,\n        \"min\": 0,\n        \"max\": 2,\n        \"num_unique_values\": 3,\n        \"samples\": [\n          2,\n          0,\n          1\n        ],\n        \"semantic_type\": \"\",\n        \"description\": \"\"\n      }\n    },\n    {\n      \"column\": \"income\",\n      \"properties\": {\n        \"dtype\": \"number\",\n        \"std\": 0,\n        \"min\": 0,\n        \"max\": 2,\n        \"num_unique_values\": 3,\n        \"samples\": [\n          0,\n          2,\n          1\n        ],\n        \"semantic_type\": \"\",\n        \"description\": \"\"\n      }\n    },\n    {\n      \"column\": \"student\",\n      \"properties\": {\n        \"dtype\": \"number\",\n        \"std\": 0,\n        \"min\": 0,\n        \"max\": 1,\n        \"num_unique_values\": 2,\n        \"samples\": [\n          1,\n          0\n        ],\n        \"semantic_type\": \"\",\n        \"description\": \"\"\n      }\n    },\n    {\n      \"column\": \"credit_rating\",\n      \"properties\": {\n        \"dtype\": \"number\",\n        \"std\": 0,\n        \"min\": 0,\n        \"max\": 1,\n        \"num_unique_values\": 2,\n        \"samples\": [\n          0,\n          1\n        ],\n        \"semantic_type\": \"\",\n        \"description\": \"\"\n      }\n    },\n    {\n      \"column\": \"class_buys_computer\",\n      \"properties\": {\n        \"dtype\": \"category\",\n        \"num_unique_values\": 2,\n        \"samples\": [\n          \"yes\",\n          \"no\"\n        ],\n        \"semantic_type\": \"\",\n        \"description\": \"\"\n      }\n    }\n  ]\n}"
            }
          },
          "metadata": {},
          "execution_count": 50
        }
      ],
      "source": [
        "encoder = LabelEncoder()\n",
        "for col in df.columns[1:-1]:\n",
        "  df[col] = encoder.fit_transform(df[col])\n",
        "df.head()"
      ]
    },
    {
      "cell_type": "markdown",
      "id": "5bef58b2",
      "metadata": {
        "id": "5bef58b2"
      },
      "source": [
        "## 建模  \n"
      ]
    },
    {
      "cell_type": "code",
      "execution_count": null,
      "id": "da238681",
      "metadata": {
        "colab": {
          "base_uri": "https://localhost:8080/"
        },
        "id": "da238681",
        "outputId": "a38b1b52-f39e-4a87-f1ea-3585b833741f"
      },
      "outputs": [
        {
          "output_type": "execute_result",
          "data": {
            "text/plain": [
              "1.0"
            ]
          },
          "metadata": {},
          "execution_count": 51
        }
      ],
      "source": [
        "X = df.iloc[:,1:-1]\n",
        "y = df.iloc[:, -1]\n",
        "\n",
        "df = DecisionTreeClassifier()\n",
        "df.fit(X, y)\n",
        "df.score(X, y)"
      ]
    },
    {
      "cell_type": "markdown",
      "id": "7c505e93",
      "metadata": {
        "id": "7c505e93"
      },
      "source": [
        "## 决策树可视化"
      ]
    },
    {
      "cell_type": "code",
      "execution_count": null,
      "id": "090821cd",
      "metadata": {
        "colab": {
          "base_uri": "https://localhost:8080/",
          "height": 653
        },
        "id": "090821cd",
        "outputId": "1bf5730f-8a2a-4337-84d0-4265a0ff63fc"
      },
      "outputs": [
        {
          "output_type": "display_data",
          "data": {
            "text/plain": [
              "<Figure size 1200x800 with 1 Axes>"
            ],
            "image/png": "[encoded data removed]"
          },
          "metadata": {}
        }
      ],
      "source": [
        "import matplotlib.pyplot as plt\n",
        "\n",
        "plt.figure(figsize=(12, 8))\n",
        "plot_tree(df, feature_names=X.columns, class_names=['no', 'yes'], filled=True)\n",
        "plt.show()\n"
      ]
    },
    {
      "cell_type": "code",
      "source": [],
      "metadata": {
        "id": "ehf6dl7yHoRo"
      },
      "id": "ehf6dl7yHoRo",
      "execution_count": null,
      "outputs": []
    }
  ],
  "metadata": {
    "kernelspec": {
      "display_name": "Python 3 (ipykernel)",
      "language": "python",
      "name": "python3"
    },
    "language_info": {
      "codemirror_mode": {
        "name": "ipython",
        "version": 3
      },
      "file_extension": ".py",
      "mimetype": "text/x-python",
      "name": "python",
      "nbconvert_exporter": "python",
      "pygments_lexer": "ipython3",
      "version": "3.9.12"
    },
    "toc": {
      "base_numbering": 1,
      "nav_menu": {},
      "number_sections": true,
      "sideBar": true,
      "skip_h1_title": false,
      "title_cell": "Table of Contents",
      "title_sidebar": "Contents",
      "toc_cell": false,
      "toc_position": {
        "height": "calc(100% - 180px)",
        "left": "10px",
        "top": "150px",
        "width": "213.825px"
      },
      "toc_section_display": true,
      "toc_window_display": true
    },
    "varInspector": {
      "cols": {
        "lenName": 16,
        "lenType": 16,
        "lenVar": 40
      },
      "kernels_config": {
        "python": {
          "delete_cmd_postfix": "",
          "delete_cmd_prefix": "del ",
          "library": "var_list.py",
          "varRefreshCmd": "print(var_dic_list())"
        },
        "r": {
          "delete_cmd_postfix": ") ",
          "delete_cmd_prefix": "rm(",
          "library": "var_list.r",
          "varRefreshCmd": "cat(var_dic_list()) "
        }
      },
      "types_to_exclude": [
        "module",
        "function",
        "builtin_function_or_method",
        "instance",
        "_Feature"
      ],
      "window_display": false
    },
    "colab": {
      "provenance": []
    }
  },
  "nbformat": 4,
  "nbformat_minor": 5
}