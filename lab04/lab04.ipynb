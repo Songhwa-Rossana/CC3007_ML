{
  "cells": [
    {
      "cell_type": "markdown",
      "id": "a65b999e",
      "metadata": {
        "id": "a65b999e"
      },
      "source": [
        " <font size=6> **实验4 逻辑回归**</font>"
      ]
    },
    {
      "cell_type": "markdown",
      "id": "3b276ddb",
      "metadata": {
        "id": "3b276ddb"
      },
      "source": [
        "- 1、理解逻辑回归进行分类的基本思想；\n",
        "- 2、掌握使用Sklearn库中的LogisticRegression进行二分类、多分类的基本方法；\n",
        "- 3、理解对图像、文本数据进行预处理、显示的流程和要点，并能使用LogisticRegression()进行分类；\n",
        "- 4、理解分类模型评价指标。"
      ]
    },
    {
      "cell_type": "markdown",
      "id": "20252ec9",
      "metadata": {
        "id": "20252ec9"
      },
      "source": [
        "**(实验报告提交题)**参考理论课4_3.ipynb，请按照下列要求，加载iris数据集，调用sklearn库LogisticRegression实现分类\n",
        "- (1)导入sklearn.datasets中iris数据集，查看数据、标签、feature_names属性、target_names属性据；\n",
        "- (2)数据特征选择第3、4列、标签选择其中的任意两类(如1、2)构建数据进行二分类(测试数据比例为0.2)，查看系数、截矩、分类概率；并利用metrics得到训练数据、测试数据预测结果的准确率、混淆矩阵和分类报告，并绘制散点图、决策边界和ROC_AUC图；\n",
        "- (3)对所有数据进行多分类(测试数据比例为0.2)，查看系数、截矩、分类概率；并利用metrics得到训练数据、测试数据预测结果的准确率、混淆矩阵和分类报告。"
      ]
    },
    {
      "cell_type": "markdown",
      "id": "8218d658",
      "metadata": {
        "id": "8218d658"
      },
      "source": [
        "# 导入库"
      ]
    },
    {
      "cell_type": "code",
      "execution_count": null,
      "id": "1681b364",
      "metadata": {
        "id": "1681b364"
      },
      "outputs": [],
      "source": [
        "import numpy as np\n",
        "import pandas as pd\n",
        "\n",
        "from sklearn.datasets import load_iris\n",
        "from sklearn.model_selection import train_test_split\n",
        "from sklearn.linear_model import LogisticRegression\n",
        "from sklearn.metrics import accuracy_score, confusion_matrix, classification_report, RocCurveDisplay\n",
        "import matplotlib.pyplot as plt\n"
      ]
    },
    {
      "cell_type": "markdown",
      "id": "866df4df",
      "metadata": {
        "id": "866df4df"
      },
      "source": [
        "# 数据集"
      ]
    },
    {
      "cell_type": "markdown",
      "id": "3b8609ab",
      "metadata": {
        "id": "3b8609ab"
      },
      "source": [
        "**(1)导入sklearn.datasets中iris数据集，查看数据、标签、feature_names属性、target_names属性**"
      ]
    },
    {
      "cell_type": "markdown",
      "id": "cb3270f3",
      "metadata": {
        "id": "cb3270f3"
      },
      "source": [
        "## 加载数据"
      ]
    },
    {
      "cell_type": "code",
      "execution_count": null,
      "id": "9abd181b",
      "metadata": {
        "id": "9abd181b"
      },
      "outputs": [],
      "source": [
        "iris = load_iris()"
      ]
    },
    {
      "cell_type": "markdown",
      "id": "3db05cfc",
      "metadata": {
        "id": "3db05cfc"
      },
      "source": [
        "## 数据探查"
      ]
    },
    {
      "cell_type": "markdown",
      "id": "66e472db",
      "metadata": {
        "id": "66e472db"
      },
      "source": [
        "<1> 查看数据"
      ]
    },
    {
      "cell_type": "code",
      "execution_count": null,
      "id": "0e9112c6",
      "metadata": {
        "colab": {
          "base_uri": "https://localhost:8080/"
        },
        "id": "0e9112c6",
        "outputId": "c32176c9-eb74-4c7e-cca5-2982b13a0b35"
      },
      "outputs": [
        {
          "output_type": "stream",
          "name": "stdout",
          "text": [
            "特征前5行：\n",
            " [[5.1 3.5 1.4 0.2]\n",
            " [4.9 3.  1.4 0.2]\n",
            " [4.7 3.2 1.3 0.2]\n",
            " [4.6 3.1 1.5 0.2]\n",
            " [5.  3.6 1.4 0.2]]\n"
          ]
        }
      ],
      "source": [
        "print(\"特征前5行：\\n\", iris.data[:5])"
      ]
    },
    {
      "cell_type": "markdown",
      "id": "2cb7ab68",
      "metadata": {
        "id": "2cb7ab68"
      },
      "source": [
        "<2> 查看标签"
      ]
    },
    {
      "cell_type": "code",
      "execution_count": null,
      "id": "dc67312f",
      "metadata": {
        "colab": {
          "base_uri": "https://localhost:8080/"
        },
        "id": "dc67312f",
        "outputId": "ffdf41e4-7af9-4df1-c055-acf4e9d9d4a8"
      },
      "outputs": [
        {
          "output_type": "execute_result",
          "data": {
            "text/plain": [
              "array([0, 0, 0, 0, 0, 0, 0, 0, 0, 0, 0, 0, 0, 0, 0, 0, 0, 0, 0, 0, 0, 0,\n",
              "       0, 0, 0, 0, 0, 0, 0, 0, 0, 0, 0, 0, 0, 0, 0, 0, 0, 0, 0, 0, 0, 0,\n",
              "       0, 0, 0, 0, 0, 0, 1, 1, 1, 1, 1, 1, 1, 1, 1, 1, 1, 1, 1, 1, 1, 1,\n",
              "       1, 1, 1, 1, 1, 1, 1, 1, 1, 1, 1, 1, 1, 1, 1, 1, 1, 1, 1, 1, 1, 1,\n",
              "       1, 1, 1, 1, 1, 1, 1, 1, 1, 1, 1, 1, 2, 2, 2, 2, 2, 2, 2, 2, 2, 2,\n",
              "       2, 2, 2, 2, 2, 2, 2, 2, 2, 2, 2, 2, 2, 2, 2, 2, 2, 2, 2, 2, 2, 2,\n",
              "       2, 2, 2, 2, 2, 2, 2, 2, 2, 2, 2, 2, 2, 2, 2, 2, 2, 2])"
            ]
          },
          "metadata": {},
          "execution_count": 4
        }
      ],
      "source": [
        "iris.target"
      ]
    },
    {
      "cell_type": "markdown",
      "id": "c3995db3",
      "metadata": {
        "id": "c3995db3"
      },
      "source": [
        "<3> 查看feature_names属性"
      ]
    },
    {
      "cell_type": "code",
      "execution_count": null,
      "id": "889eab67",
      "metadata": {
        "colab": {
          "base_uri": "https://localhost:8080/"
        },
        "id": "889eab67",
        "outputId": "e9b0c050-41d3-468a-fde2-d75f958cba8a"
      },
      "outputs": [
        {
          "output_type": "execute_result",
          "data": {
            "text/plain": [
              "['sepal length (cm)',\n",
              " 'sepal width (cm)',\n",
              " 'petal length (cm)',\n",
              " 'petal width (cm)']"
            ]
          },
          "metadata": {},
          "execution_count": 5
        }
      ],
      "source": [
        "iris.feature_names"
      ]
    },
    {
      "cell_type": "markdown",
      "id": "c987f189",
      "metadata": {
        "id": "c987f189"
      },
      "source": [
        "<4> 查看target_names属性"
      ]
    },
    {
      "cell_type": "code",
      "execution_count": null,
      "id": "65de872e",
      "metadata": {
        "colab": {
          "base_uri": "https://localhost:8080/"
        },
        "id": "65de872e",
        "outputId": "3a79fc33-87a5-4262-a2c7-ac76aa0d43b6"
      },
      "outputs": [
        {
          "output_type": "execute_result",
          "data": {
            "text/plain": [
              "array(['setosa', 'versicolor', 'virginica'], dtype='<U10')"
            ]
          },
          "metadata": {},
          "execution_count": 6
        }
      ],
      "source": [
        "iris.target_names"
      ]
    },
    {
      "cell_type": "markdown",
      "id": "baff0b5d",
      "metadata": {
        "id": "baff0b5d"
      },
      "source": [
        "# 建模 - 二分类"
      ]
    },
    {
      "cell_type": "markdown",
      "id": "723cc776",
      "metadata": {
        "id": "723cc776"
      },
      "source": [
        "**(2)数据特征选择第3、4列、标签选择其中的任意两类(如1、2)构建数据进行二分类(测试数据比例为0.2)，查看系数、截矩、分类概率；并利用metrics得到训练数据、测试数据预测结果的准确率、混淆矩阵和分类报告，并绘制散点图、决策边界和ROC_AUC图**"
      ]
    },
    {
      "cell_type": "markdown",
      "id": "811d53e7",
      "metadata": {
        "id": "811d53e7"
      },
      "source": [
        "## 数据集处理"
      ]
    },
    {
      "cell_type": "markdown",
      "id": "c0fac189",
      "metadata": {
        "id": "c0fac189"
      },
      "source": [
        "<1> 特征选择3，4列, 同时标签选择1、2"
      ]
    },
    {
      "cell_type": "code",
      "execution_count": null,
      "id": "bbb75d93",
      "metadata": {
        "id": "bbb75d93"
      },
      "outputs": [],
      "source": [
        "X = iris.data[:, [2,3]][iris.target!=0]\n",
        "y = iris.target[iris.target > 0]"
      ]
    },
    {
      "cell_type": "markdown",
      "id": "766e4f60",
      "metadata": {
        "id": "766e4f60"
      },
      "source": [
        "<2> 构造训练集和测试集（0.2）"
      ]
    },
    {
      "cell_type": "code",
      "execution_count": null,
      "id": "d9f09c70",
      "metadata": {
        "id": "d9f09c70"
      },
      "outputs": [],
      "source": [
        "X_train, X_test, y_train, y_test = train_test_split(X, y, test_size=0.2, random_state=42)"
      ]
    },
    {
      "cell_type": "markdown",
      "id": "144eb57c",
      "metadata": {
        "id": "144eb57c"
      },
      "source": [
        "## 模型训练和评估"
      ]
    },
    {
      "cell_type": "markdown",
      "id": "9d44cb0b",
      "metadata": {
        "id": "9d44cb0b"
      },
      "source": [
        "<1> 创建逻辑回归模型并训练"
      ]
    },
    {
      "cell_type": "code",
      "execution_count": null,
      "id": "60cb70c8",
      "metadata": {
        "colab": {
          "base_uri": "https://localhost:8080/"
        },
        "id": "60cb70c8",
        "outputId": "6054ebdd-edc2-4db3-deb5-4ba688379b4f"
      },
      "outputs": [
        {
          "output_type": "execute_result",
          "data": {
            "text/plain": [
              "0.95"
            ]
          },
          "metadata": {},
          "execution_count": 30
        }
      ],
      "source": [
        "lr = LogisticRegression()\n",
        "lr.fit(X_train, y_train)\n",
        "lr.score(X_train, y_train)"
      ]
    },
    {
      "cell_type": "markdown",
      "id": "bdd7f99e",
      "metadata": {
        "id": "bdd7f99e"
      },
      "source": [
        "<2> 查看系数、截矩、分类概率"
      ]
    },
    {
      "cell_type": "code",
      "execution_count": null,
      "id": "09fe5260",
      "metadata": {
        "colab": {
          "base_uri": "https://localhost:8080/"
        },
        "id": "09fe5260",
        "outputId": "b0be5e5a-7a6f-4753-dafc-09d6752fdc59"
      },
      "outputs": [
        {
          "output_type": "stream",
          "name": "stdout",
          "text": [
            "模型的系数： [[2.68579814 2.14497988]]\n",
            "模型的截距： [-16.70530321]\n",
            "模型的分类概率：\n",
            " [[0.44775709 0.55224291]\n",
            " [0.10009854 0.89990146]\n",
            " [0.02827211 0.97172789]\n",
            " [0.94536907 0.05463093]\n",
            " [0.93317261 0.06682739]\n",
            " [0.95983004 0.04016996]\n",
            " [0.5811321  0.4188679 ]\n",
            " [0.02289832 0.97710168]\n",
            " [0.99429125 0.00570875]\n",
            " [0.74631986 0.25368014]\n",
            " [0.80246013 0.19753987]\n",
            " [0.98432351 0.01567649]\n",
            " [0.42163346 0.57836654]\n",
            " [0.39550377 0.60449623]\n",
            " [0.02979641 0.97020359]\n",
            " [0.75642195 0.24357805]\n",
            " [0.48812932 0.51187068]\n",
            " [0.42163346 0.57836654]\n",
            " [0.97848238 0.02151762]\n",
            " [0.99027103 0.00972897]]\n"
          ]
        }
      ],
      "source": [
        "print('模型的系数：', lr.coef_)\n",
        "print('模型的截距：', lr.intercept_)\n",
        "print('模型的分类概率：\\n', lr.predict_proba(X_test))"
      ]
    },
    {
      "cell_type": "markdown",
      "id": "2475d7ab",
      "metadata": {
        "id": "2475d7ab"
      },
      "source": [
        "<3> 利用metrics得到训练数据、测试数据预测结果的准确率、混淆矩阵和分类报告"
      ]
    },
    {
      "cell_type": "code",
      "execution_count": null,
      "id": "e26d178a",
      "metadata": {
        "colab": {
          "base_uri": "https://localhost:8080/"
        },
        "id": "e26d178a",
        "outputId": "6b4e71af-d1ff-4b47-f9cd-376ee9e60535"
      },
      "outputs": [
        {
          "output_type": "stream",
          "name": "stdout",
          "text": [
            "训练数据的准确率： 0.95\n",
            "测试数据的准确率： 0.95\n",
            "\n",
            "训练数据的混淆矩阵：\n",
            " [[36  2]\n",
            " [ 2 40]]\n",
            "测试数据的混淆矩阵：\n",
            " [[11  1]\n",
            " [ 0  8]]\n",
            "\n",
            "训练数据的分类报告：\n",
            "               precision    recall  f1-score   support\n",
            "\n",
            "           1       0.95      0.95      0.95        38\n",
            "           2       0.95      0.95      0.95        42\n",
            "\n",
            "    accuracy                           0.95        80\n",
            "   macro avg       0.95      0.95      0.95        80\n",
            "weighted avg       0.95      0.95      0.95        80\n",
            "\n",
            "测试数据的分类报告：\n",
            "               precision    recall  f1-score   support\n",
            "\n",
            "           1       1.00      0.92      0.96        12\n",
            "           2       0.89      1.00      0.94         8\n",
            "\n",
            "    accuracy                           0.95        20\n",
            "   macro avg       0.94      0.96      0.95        20\n",
            "weighted avg       0.96      0.95      0.95        20\n",
            "\n"
          ]
        }
      ],
      "source": [
        "print(\"训练数据的准确率：\",accuracy_score(y_train, lr.predict(X_train)))\n",
        "print(\"测试数据的准确率：\",accuracy_score(y_test, lr.predict(X_test)))\n",
        "print(\"\")\n",
        "print(\"训练数据的混淆矩阵：\\n\",confusion_matrix(y_train, lr.predict(X_train)))\n",
        "print(\"测试数据的混淆矩阵：\\n\",confusion_matrix(y_test, lr.predict(X_test)))\n",
        "print(\"\")\n",
        "print(\"训练数据的分类报告：\\n\",classification_report(y_train, lr.predict(X_train)))\n",
        "print(\"测试数据的分类报告：\\n\",classification_report(y_test, lr.predict(X_test)))"
      ]
    },
    {
      "cell_type": "markdown",
      "id": "9f8ce15e",
      "metadata": {
        "id": "9f8ce15e"
      },
      "source": [
        "## 模型可视化"
      ]
    },
    {
      "cell_type": "markdown",
      "id": "4fd2e59c",
      "metadata": {
        "id": "4fd2e59c"
      },
      "source": [
        "<1> 散点图和决策边界"
      ]
    },
    {
      "cell_type": "code",
      "execution_count": null,
      "id": "d5a89587",
      "metadata": {
        "colab": {
          "base_uri": "https://localhost:8080/",
          "height": 430
        },
        "id": "d5a89587",
        "outputId": "b9b974a7-9aac-46a6-9b5a-7d4abfb82211"
      },
      "outputs": [
        {
          "output_type": "display_data",
          "data": {
            "text/plain": [
              "<Figure size 640x480 with 1 Axes>"
            ],
            "image/png": "[encoded data removed]"
          },
          "metadata": {}
        }
      ],
      "source": [
        "plt.scatter(X[:,0], X[:,1], c = y, s = 50, edgecolors = 'k')\n",
        "#plt.scatter(X_train[:,0], X_train[:,1], c = y_train, s = 50, edgecolors = 'k')\n",
        "#plt.scatter(X_test[:,0], X_test[:,1], c = y_test, s = 50, edgecolors = 'k')\n",
        "\n",
        "#定义lr决策边界函数\n",
        "w0 = lr.intercept_[0]\n",
        "w1 = lr.coef_[0][0]\n",
        "w2 = lr.coef_[0][1]\n",
        "\n",
        "def f(x):\n",
        "    return (-w0-w1*x)/w2\n",
        "\n",
        "#画决策边界图\n",
        "x = np.linspace(2, 8, 200)\n",
        "plt.plot(x, f(x), c='r')\n",
        "plt.show()"
      ]
    },
    {
      "cell_type": "markdown",
      "id": "640c6a15",
      "metadata": {
        "id": "640c6a15"
      },
      "source": [
        "<2> ROC_AUC图"
      ]
    },
    {
      "cell_type": "code",
      "execution_count": null,
      "id": "aa885e0b",
      "metadata": {
        "colab": {
          "base_uri": "https://localhost:8080/",
          "height": 449
        },
        "id": "aa885e0b",
        "outputId": "cfdf257f-56e6-4e41-df51-80a03d24f318"
      },
      "outputs": [
        {
          "output_type": "display_data",
          "data": {
            "text/plain": [
              "<Figure size 640x480 with 1 Axes>"
            ],
            "image/png": "[encoded data removed]"
          },
          "metadata": {}
        }
      ],
      "source": [
        "RocCurveDisplay.from_estimator(lr, X_test, y_test)\n",
        "plt.show()"
      ]
    },
    {
      "cell_type": "markdown",
      "id": "b706244f",
      "metadata": {
        "id": "b706244f"
      },
      "source": [
        "# 建模 - 多分类"
      ]
    },
    {
      "cell_type": "markdown",
      "id": "5715149c",
      "metadata": {
        "id": "5715149c"
      },
      "source": [
        "**(3)对所有数据进行多分类(测试数据比例为0.2)，查看系数、截矩、分类概率；并利用metrics得到训练数据、测试数据预测结果的准确率、混淆矩阵和分类报告**"
      ]
    },
    {
      "cell_type": "markdown",
      "id": "7fa447ca",
      "metadata": {
        "id": "7fa447ca"
      },
      "source": [
        "## 数据集划分"
      ]
    },
    {
      "cell_type": "markdown",
      "id": "d6e946bd",
      "metadata": {
        "id": "d6e946bd"
      },
      "source": [
        "对所有数据，构造测试集和训练集（0.2）\n",
        "\n"
      ]
    },
    {
      "cell_type": "code",
      "execution_count": null,
      "id": "711677a5",
      "metadata": {
        "id": "711677a5"
      },
      "outputs": [],
      "source": [
        "X_train, X_test, y_train, y_test = train_test_split(iris.data, iris.target, test_size=0.2, random_state=42)"
      ]
    },
    {
      "cell_type": "markdown",
      "id": "564efd14",
      "metadata": {
        "id": "564efd14"
      },
      "source": [
        "## 模型训练和评估"
      ]
    },
    {
      "cell_type": "markdown",
      "id": "e5ac106d",
      "metadata": {
        "id": "e5ac106d"
      },
      "source": [
        "`<1> 创建逻辑回归模型并训练"
      ]
    },
    {
      "cell_type": "code",
      "execution_count": null,
      "id": "eaa36bd4",
      "metadata": {
        "colab": {
          "base_uri": "https://localhost:8080/",
          "height": 214
        },
        "id": "eaa36bd4",
        "outputId": "406d3614-4299-4ee2-b2d0-15ad433c2d72"
      },
      "outputs": [
        {
          "output_type": "stream",
          "name": "stderr",
          "text": [
            "/usr/local/lib/python3.10/dist-packages/sklearn/linear_model/_logistic.py:460: ConvergenceWarning: lbfgs failed to converge (status=1):\n",
            "STOP: TOTAL NO. of ITERATIONS REACHED LIMIT.\n",
            "\n",
            "Increase the number of iterations (max_iter) or scale the data as shown in:\n",
            "    https://scikit-learn.org/stable/modules/preprocessing.html\n",
            "Please also refer to the documentation for alternative solver options:\n",
            "    https://scikit-learn.org/stable/modules/linear_model.html#logistic-regression\n",
            "  n_iter_i = _check_optimize_result(\n"
          ]
        },
        {
          "output_type": "execute_result",
          "data": {
            "text/plain": [
              "LogisticRegression(multi_class='multinomial')"
            ],
            "text/html": [
              "<style>#sk-container-id-3 {color: black;}#sk-container-id-3 pre{padding: 0;}#sk-container-id-3 div.sk-toggleable {background-color: white;}#sk-container-id-3 label.sk-toggleable__label {cursor: pointer;display: block;width: 100%;margin-bottom: 0;padding: 0.3em;box-sizing: border-box;text-align: center;}#sk-container-id-3 label.sk-toggleable__label-arrow:before {content: \"▸\";float: left;margin-right: 0.25em;color: #696969;}#sk-container-id-3 label.sk-toggleable__label-arrow:hover:before {color: black;}#sk-container-id-3 div.sk-estimator:hover label.sk-toggleable__label-arrow:before {color: black;}#sk-container-id-3 div.sk-toggleable__content {max-height: 0;max-width: 0;overflow: hidden;text-align: left;background-color: #f0f8ff;}#sk-container-id-3 div.sk-toggleable__content pre {margin: 0.2em;color: black;border-radius: 0.25em;background-color: #f0f8ff;}#sk-container-id-3 input.sk-toggleable__control:checked~div.sk-toggleable__content {max-height: 200px;max-width: 100%;overflow: auto;}#sk-container-id-3 input.sk-toggleable__control:checked~label.sk-toggleable__label-arrow:before {content: \"▾\";}#sk-container-id-3 div.sk-estimator input.sk-toggleable__control:checked~label.sk-toggleable__label {background-color: #d4ebff;}#sk-container-id-3 div.sk-label input.sk-toggleable__control:checked~label.sk-toggleable__label {background-color: #d4ebff;}#sk-container-id-3 input.sk-hidden--visually {border: 0;clip: rect(1px 1px 1px 1px);clip: rect(1px, 1px, 1px, 1px);height: 1px;margin: -1px;overflow: hidden;padding: 0;position: absolute;width: 1px;}#sk-container-id-3 div.sk-estimator {font-family: monospace;background-color: #f0f8ff;border: 1px dotted black;border-radius: 0.25em;box-sizing: border-box;margin-bottom: 0.5em;}#sk-container-id-3 div.sk-estimator:hover {background-color: #d4ebff;}#sk-container-id-3 div.sk-parallel-item::after {content: \"\";width: 100%;border-bottom: 1px solid gray;flex-grow: 1;}#sk-container-id-3 div.sk-label:hover label.sk-toggleable__label {background-color: #d4ebff;}#sk-container-id-3 div.sk-serial::before {content: \"\";position: absolute;border-left: 1px solid gray;box-sizing: border-box;top: 0;bottom: 0;left: 50%;z-index: 0;}#sk-container-id-3 div.sk-serial {display: flex;flex-direction: column;align-items: center;background-color: white;padding-right: 0.2em;padding-left: 0.2em;position: relative;}#sk-container-id-3 div.sk-item {position: relative;z-index: 1;}#sk-container-id-3 div.sk-parallel {display: flex;align-items: stretch;justify-content: center;background-color: white;position: relative;}#sk-container-id-3 div.sk-item::before, #sk-container-id-3 div.sk-parallel-item::before {content: \"\";position: absolute;border-left: 1px solid gray;box-sizing: border-box;top: 0;bottom: 0;left: 50%;z-index: -1;}#sk-container-id-3 div.sk-parallel-item {display: flex;flex-direction: column;z-index: 1;position: relative;background-color: white;}#sk-container-id-3 div.sk-parallel-item:first-child::after {align-self: flex-end;width: 50%;}#sk-container-id-3 div.sk-parallel-item:last-child::after {align-self: flex-start;width: 50%;}#sk-container-id-3 div.sk-parallel-item:only-child::after {width: 0;}#sk-container-id-3 div.sk-dashed-wrapped {border: 1px dashed gray;margin: 0 0.4em 0.5em 0.4em;box-sizing: border-box;padding-bottom: 0.4em;background-color: white;}#sk-container-id-3 div.sk-label label {font-family: monospace;font-weight: bold;display: inline-block;line-height: 1.2em;}#sk-container-id-3 div.sk-label-container {text-align: center;}#sk-container-id-3 div.sk-container {/* jupyter's `normalize.less` sets `[hidden] { display: none; }` but bootstrap.min.css set `[hidden] { display: none !important; }` so we also need the `!important` here to be able to override the default hidden behavior on the sphinx rendered scikit-learn.org. See: https://github.com/scikit-learn/scikit-learn/issues/21755 */display: inline-block !important;position: relative;}#sk-container-id-3 div.sk-text-repr-fallback {display: none;}</style><div id=\"sk-container-id-3\" class=\"sk-top-container\"><div class=\"sk-text-repr-fallback\"><pre>LogisticRegression(multi_class=&#x27;multinomial&#x27;)</pre><b>In a Jupyter environment, please rerun this cell to show the HTML representation or trust the notebook. <br />On GitHub, the HTML representation is unable to render, please try loading this page with nbviewer.org.</b></div><div class=\"sk-container\" hidden><div class=\"sk-item\"><div class=\"sk-estimator sk-toggleable\"><input class=\"sk-toggleable__control sk-hidden--visually\" id=\"sk-estimator-id-3\" type=\"checkbox\" checked><label for=\"sk-estimator-id-3\" class=\"sk-toggleable__label sk-toggleable__label-arrow\">LogisticRegression</label><div class=\"sk-toggleable__content\"><pre>LogisticRegression(multi_class=&#x27;multinomial&#x27;)</pre></div></div></div></div></div>"
            ]
          },
          "metadata": {},
          "execution_count": 52
        }
      ],
      "source": [
        "lr_multi = LogisticRegression(multi_class='multinomial', solver='lbfgs')\n",
        "lr_multi.fit(X_train, y_train)"
      ]
    },
    {
      "cell_type": "markdown",
      "id": "f221777b",
      "metadata": {
        "id": "f221777b"
      },
      "source": [
        "<2> 查看系数、截矩、分类概率"
      ]
    },
    {
      "cell_type": "code",
      "execution_count": null,
      "id": "b4a0596f",
      "metadata": {
        "colab": {
          "base_uri": "https://localhost:8080/"
        },
        "id": "b4a0596f",
        "outputId": "37afcaf9-ea9c-4384-bc74-06cd1d053648"
      },
      "outputs": [
        {
          "output_type": "stream",
          "name": "stdout",
          "text": [
            "模型的系数： [[-0.39722222  0.96078798 -2.37395779 -1.00329173]\n",
            " [ 0.51294154 -0.25372598 -0.21560233 -0.76901609]\n",
            " [-0.11571932 -0.707062    2.58956012  1.77230782]]\n",
            "\n",
            "模型的截矩： [  9.03250813   1.8426525  -10.87516064]\n",
            "\n",
            "模型的分类概率：\n",
            " [[3.78540536e-03 8.27210040e-01 1.69004555e-01]\n",
            " [9.46727170e-01 5.32726301e-02 1.99986472e-07]\n",
            " [8.72385695e-09 1.55691544e-03 9.98443076e-01]\n",
            " [6.43448555e-03 7.92126722e-01 2.01438792e-01]\n",
            " [1.44095507e-03 7.74344685e-01 2.24214360e-01]\n",
            " [9.55768196e-01 4.42316271e-02 1.76849604e-07]\n",
            " [7.76122937e-02 9.08082088e-01 1.43056180e-02]\n",
            " [1.61401764e-04 1.55690377e-01 8.44148221e-01]\n",
            " [2.20736359e-03 7.62834324e-01 2.34958312e-01]\n",
            " [2.83154099e-02 9.45798684e-01 2.58859062e-02]\n",
            " [4.39679077e-04 2.43281228e-01 7.56279093e-01]\n",
            " [9.68307934e-01 3.16919881e-02 7.80649368e-08]\n",
            " [9.72933932e-01 2.70660346e-02 3.33361450e-08]\n",
            " [9.62096919e-01 3.79029701e-02 1.10921543e-07]\n",
            " [9.79272619e-01 2.07273164e-02 6.47441610e-08]\n",
            " [4.54276495e-03 7.12605191e-01 2.82852044e-01]\n",
            " [7.22631012e-06 2.42037672e-02 9.75789006e-01]\n",
            " [2.73294494e-02 9.47693266e-01 2.49772846e-02]\n",
            " [8.23322642e-03 8.31120343e-01 1.60646431e-01]\n",
            " [1.41951888e-05 3.59416991e-02 9.64044106e-01]\n",
            " [9.64370491e-01 3.56293164e-02 1.92868701e-07]\n",
            " [1.31386510e-03 3.99100232e-01 5.99585903e-01]\n",
            " [9.61627957e-01 3.83717820e-02 2.61167648e-07]\n",
            " [1.85433789e-05 4.58639908e-02 9.54117466e-01]\n",
            " [1.63757836e-06 2.58619953e-02 9.74136367e-01]\n",
            " [9.32586149e-05 1.05067523e-01 8.94839219e-01]\n",
            " [8.68953683e-06 5.83511378e-02 9.41640173e-01]\n",
            " [4.29911367e-06 1.88516052e-02 9.81144096e-01]\n",
            " [9.66838023e-01 3.31618414e-02 1.35794368e-07]\n",
            " [9.56304601e-01 4.36951670e-02 2.32419953e-07]]\n"
          ]
        }
      ],
      "source": [
        "print('模型的系数：', lr_multi.coef_)\n",
        "print(\"\")\n",
        "print('模型的截矩：', lr_multi.intercept_)\n",
        "print(\"\")\n",
        "print('模型的分类概率：\\n', lr_multi.predict_proba(X_test))\n"
      ]
    },
    {
      "cell_type": "markdown",
      "id": "9be208ca",
      "metadata": {
        "id": "9be208ca"
      },
      "source": [
        "<3> 利用metrics得到训练数据、测试数据预测结果的准确率、混淆矩阵和分类报告"
      ]
    },
    {
      "cell_type": "code",
      "execution_count": null,
      "id": "5a919dc2",
      "metadata": {
        "colab": {
          "base_uri": "https://localhost:8080/"
        },
        "id": "5a919dc2",
        "outputId": "9f57d783-e3ba-4e71-be13-1dc2141488c5"
      },
      "outputs": [
        {
          "output_type": "stream",
          "name": "stdout",
          "text": [
            "训练数据的准确率： 0.975\n",
            "测试数据的准确率： 1.0\n",
            "\n",
            "训练数据的混淆矩阵：\n",
            " [[40  0  0]\n",
            " [ 0 38  3]\n",
            " [ 0  0 39]]\n",
            "测试数据的混淆矩阵：\n",
            " [[10  0  0]\n",
            " [ 0  9  0]\n",
            " [ 0  0 11]]\n",
            "\n",
            "训练数据的分类报告：\n",
            "               precision    recall  f1-score   support\n",
            "\n",
            "           0       1.00      1.00      1.00        40\n",
            "           1       1.00      0.93      0.96        41\n",
            "           2       0.93      1.00      0.96        39\n",
            "\n",
            "    accuracy                           0.97       120\n",
            "   macro avg       0.98      0.98      0.97       120\n",
            "weighted avg       0.98      0.97      0.97       120\n",
            "\n",
            "测试数据的分类报告：\n",
            "               precision    recall  f1-score   support\n",
            "\n",
            "           0       1.00      1.00      1.00        10\n",
            "           1       1.00      1.00      1.00         9\n",
            "           2       1.00      1.00      1.00        11\n",
            "\n",
            "    accuracy                           1.00        30\n",
            "   macro avg       1.00      1.00      1.00        30\n",
            "weighted avg       1.00      1.00      1.00        30\n",
            "\n"
          ]
        }
      ],
      "source": [
        "print(\"训练数据的准确率：\",accuracy_score(y_train, lr_multi.predict(X_train)))\n",
        "print(\"测试数据的准确率：\",accuracy_score(y_test, lr_multi.predict(X_test)))\n",
        "print(\"\")\n",
        "print(\"训练数据的混淆矩阵：\\n\",confusion_matrix(y_train, lr_multi.predict(X_train)))\n",
        "print(\"测试数据的混淆矩阵：\\n\",confusion_matrix(y_test, lr_multi.predict(X_test)))\n",
        "print(\"\")\n",
        "print(\"训练数据的分类报告：\\n\",classification_report(y_train, lr_multi.predict(X_train)))\n",
        "print(\"测试数据的分类报告：\\n\",classification_report(y_test, lr_multi.predict(X_test)))\n"
      ]
    }
  ],
  "metadata": {
    "kernelspec": {
      "display_name": "Python 3 (ipykernel)",
      "language": "python",
      "name": "python3"
    },
    "language_info": {
      "codemirror_mode": {
        "name": "ipython",
        "version": 3
      },
      "file_extension": ".py",
      "mimetype": "text/x-python",
      "name": "python",
      "nbconvert_exporter": "python",
      "pygments_lexer": "ipython3",
      "version": "3.9.12"
    },
    "toc": {
      "base_numbering": 1,
      "nav_menu": {},
      "number_sections": true,
      "sideBar": true,
      "skip_h1_title": false,
      "title_cell": "Table of Contents",
      "title_sidebar": "Contents",
      "toc_cell": false,
      "toc_position": {
        "height": "calc(100% - 180px)",
        "left": "10px",
        "top": "150px",
        "width": "242.825px"
      },
      "toc_section_display": true,
      "toc_window_display": true
    },
    "varInspector": {
      "cols": {
        "lenName": 16,
        "lenType": 16,
        "lenVar": 40
      },
      "kernels_config": {
        "python": {
          "delete_cmd_postfix": "",
          "delete_cmd_prefix": "del ",
          "library": "var_list.py",
          "varRefreshCmd": "print(var_dic_list())"
        },
        "r": {
          "delete_cmd_postfix": ") ",
          "delete_cmd_prefix": "rm(",
          "library": "var_list.r",
          "varRefreshCmd": "cat(var_dic_list()) "
        }
      },
      "position": {
        "height": "481.833px",
        "left": "1336.67px",
        "right": "20px",
        "top": "120px",
        "width": "350px"
      },
      "types_to_exclude": [
        "module",
        "function",
        "builtin_function_or_method",
        "instance",
        "_Feature"
      ],
      "window_display": false
    },
    "colab": {
      "provenance": [],
      "toc_visible": true
    }
  },
  "nbformat": 4,
  "nbformat_minor": 5
}