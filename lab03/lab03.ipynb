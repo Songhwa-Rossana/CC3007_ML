{
  "cells": [
    {
      "cell_type": "markdown",
      "id": "bb035cfc",
      "metadata": {
        "id": "bb035cfc"
      },
      "source": [
        "<font size=6> **实验3 KNN**</font>"
      ]
    },
    {
      "cell_type": "markdown",
      "id": "8eb70a14",
      "metadata": {
        "id": "8eb70a14"
      },
      "source": [
        "- 1、理解KNN概念、原理和优缺点，熟悉计算流程，理解实现基本代码，掌握sklearn库KNN相关函数用法；\n",
        "- 2、掌握用make_blobs、make_regression生成数据集的基本方法，并能进行可视化，会绘制带边界的分类图；\n",
        "- 3、掌握在分类任务中的应用，理解在回归分析中的应用。"
      ]
    },
    {
      "cell_type": "markdown",
      "id": "27db246c",
      "metadata": {
        "id": "27db246c"
      },
      "source": [
        "**(实验报告提交题)** 下图是根据一个人的身高和体重去预测性别的资料  \n",
        "\n",
        "要求：用sklearn中KNN分类算法建模(k=3)，假设预测对象的身高155 厘米、体重70 千克，请预测其性别，并画出含边界的分类图"
      ]
    },
    {
      "cell_type": "markdown",
      "id": "54142f4a",
      "metadata": {
        "id": "54142f4a"
      },
      "source": [
        "# 导入库"
      ]
    },
    {
      "cell_type": "code",
      "execution_count": null,
      "id": "9738f1f0",
      "metadata": {
        "id": "9738f1f0"
      },
      "outputs": [],
      "source": [
        "import numpy as np\n",
        "import pandas as pd\n",
        "import matplotlib.pyplot as plt\n",
        "from sklearn.neighbors import KNeighborsClassifier\n",
        "\n"
      ]
    },
    {
      "cell_type": "markdown",
      "id": "b2199367",
      "metadata": {
        "id": "b2199367"
      },
      "source": [
        "# 数据集准备"
      ]
    },
    {
      "cell_type": "markdown",
      "id": "dcccfd98",
      "metadata": {
        "id": "dcccfd98"
      },
      "source": [
        "可参考课件例子（判断电影类别）"
      ]
    },
    {
      "cell_type": "code",
      "execution_count": null,
      "id": "999bffae",
      "metadata": {
        "id": "999bffae"
      },
      "outputs": [],
      "source": [
        "X_train = np.array([\n",
        "    [158, 64],\n",
        "    [170, 66],\n",
        "    [183, 84],\n",
        "    [191, 80],\n",
        "    [155, 49],\n",
        "    [163, 59],\n",
        "    [180, 67],\n",
        "    [158, 54],\n",
        "    [178, 77]\n",
        "])\n",
        "\n",
        "y_train = np.array([0, 0, 0, 0, 1, 1, 1, 1, 1])"
      ]
    },
    {
      "cell_type": "markdown",
      "id": "49d7d93b",
      "metadata": {
        "id": "49d7d93b"
      },
      "source": [
        "# 建模"
      ]
    },
    {
      "cell_type": "code",
      "execution_count": null,
      "id": "5cf17590",
      "metadata": {
        "colab": {
          "base_uri": "https://localhost:8080/"
        },
        "id": "5cf17590",
        "outputId": "6b95ed47-a739-4a2a-c529-153345f5f203"
      },
      "outputs": [
        {
          "data": {
            "text/plain": [
              "array([0])"
            ]
          },
          "execution_count": 9,
          "metadata": {},
          "output_type": "execute_result"
        }
      ],
      "source": [
        "#初始化模型\n",
        "knn = KNeighborsClassifier(n_neighbors=3)\n",
        "\n",
        "#训练预测\n",
        "knn.fit(X_train, y_train)\n",
        "knn.score(X_train, y_train)\n",
        "\n",
        "#预测\n",
        "X_test = np.array([[155, 70]])\n",
        "knn.predict(X_test)"
      ]
    },
    {
      "cell_type": "markdown",
      "id": "zji1Xc_Z1aq1",
      "metadata": {
        "id": "zji1Xc_Z1aq1"
      },
      "source": [
        "身高155，体重70，预测结果为0：男性"
      ]
    },
    {
      "cell_type": "markdown",
      "id": "b1eb985f",
      "metadata": {
        "id": "b1eb985f"
      },
      "source": [
        "# 可视化（画出含边界的分类图）"
      ]
    },
    {
      "cell_type": "markdown",
      "id": "d92db54c",
      "metadata": {
        "id": "d92db54c"
      },
      "source": [
        "可参考lab_3_2代码"
      ]
    },
    {
      "cell_type": "code",
      "execution_count": null,
      "id": "6ef33146",
      "metadata": {
        "colab": {
          "base_uri": "https://localhost:8080/",
          "height": 521
        },
        "id": "6ef33146",
        "outputId": "bb1db573-a010-454c-e406-36371177d077"
      },
      "outputs": [
        {
          "name": "stderr",
          "output_type": "stream",
          "text": [
            "<ipython-input-14-59cbd9cad277>:10: UserWarning: No data for colormapping provided via 'c'. Parameters 'cmap' will be ignored\n",
            "  plt.scatter(X_train[y_train==1,0], X_train[y_train==1,1], cmap=plt.cm.spring, edgecolor='k', marker='^')\n",
            "<ipython-input-14-59cbd9cad277>:11: UserWarning: No data for colormapping provided via 'c'. Parameters 'cmap' will be ignored\n",
            "  plt.scatter(X_train[y_train==0,0], X_train[y_train==0,1], cmap=plt.cm.spring, edgecolor='k', marker='o')\n"
          ]
        },
        {
          "data": {
            "image/png": "[encoded data removed]",
            "text/plain": [
              "<Figure size 640x480 with 1 Axes>"
            ]
          },
          "metadata": {},
          "output_type": "display_data"
        }
      ],
      "source": [
        "x_min, x_max = X_train[:, 0].min() - 1, X_train[:, 0].max() + 1\n",
        "y_min, y_max = X_train[:, 1].min() - 1, X_train[:, 1].max() + 1\n",
        "xx, yy = np.meshgrid(np.arange(x_min, x_max, 0.1),\n",
        "                   np.arange(y_min, y_max, 0.1))\n",
        "\n",
        "Z = knn.predict(np.c_[xx.ravel(), yy.ravel()])\n",
        "\n",
        "Z = Z.reshape(xx.shape)\n",
        "plt.pcolormesh(xx, yy, Z, cmap=plt.cm.Paired)\n",
        "plt.scatter(X_train[y_train==1,0], X_train[y_train==1,1], cmap=plt.cm.spring, edgecolor='k', marker='^')\n",
        "plt.scatter(X_train[y_train==0,0], X_train[y_train==0,1], cmap=plt.cm.spring, edgecolor='k', marker='o')\n",
        "plt.xlim(xx.min(), xx.max())\n",
        "plt.ylim(yy.min(), yy.max())\n",
        "plt.title(\"Classifier: KNN\")\n",
        "plt.show()"
      ]
    }
  ],
  "metadata": {
    "colab": {
      "provenance": []
    },
    "kernelspec": {
      "display_name": "Python 3 (ipykernel)",
      "language": "python",
      "name": "python3"
    },
    "language_info": {
      "codemirror_mode": {
        "name": "ipython",
        "version": 3
      },
      "file_extension": ".py",
      "mimetype": "text/x-python",
      "name": "python",
      "nbconvert_exporter": "python",
      "pygments_lexer": "ipython3",
      "version": "3.9.12"
    },
    "toc": {
      "base_numbering": 1,
      "nav_menu": {},
      "number_sections": true,
      "sideBar": true,
      "skip_h1_title": false,
      "title_cell": "Table of Contents",
      "title_sidebar": "Contents",
      "toc_cell": false,
      "toc_position": {
        "height": "calc(100% - 180px)",
        "left": "10px",
        "top": "150px",
        "width": "227.225px"
      },
      "toc_section_display": true,
      "toc_window_display": true
    },
    "varInspector": {
      "cols": {
        "lenName": 16,
        "lenType": 16,
        "lenVar": 40
      },
      "kernels_config": {
        "python": {
          "delete_cmd_postfix": "",
          "delete_cmd_prefix": "del ",
          "library": "var_list.py",
          "varRefreshCmd": "print(var_dic_list())"
        },
        "r": {
          "delete_cmd_postfix": ") ",
          "delete_cmd_prefix": "rm(",
          "library": "var_list.r",
          "varRefreshCmd": "cat(var_dic_list()) "
        }
      },
      "types_to_exclude": [
        "module",
        "function",
        "builtin_function_or_method",
        "instance",
        "_Feature"
      ],
      "window_display": false
    }
  },
  "nbformat": 4,
  "nbformat_minor": 5
}
