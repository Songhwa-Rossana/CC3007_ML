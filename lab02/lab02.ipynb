{
 "cells": [
  {
   "cell_type": "markdown",
   "id": "bb035cfc",
   "metadata": {},
   "source": [
    "<font size=6> **实验2 线性回归**</font>"
   ]
  },
  {
   "cell_type": "markdown",
   "id": "8eb70a14",
   "metadata": {},
   "source": [
    "- 掌握数据准备(行列增删、维度变换、训练集与测试集随机划分)、数据可视化相关操作，能够利用sklearn中的LinearRegression、SGDRegressor、Ridge、Lasso进行建模、训练、预测、评价等基本操作；\n",
    "- 理解Ridge、Lasso回归中超参数alpha的作用及调优；\n",
    "- 能够利用numpy、pandas等工具按要求生成数据集，用不同模型得到相应参数，分别计算回归指标，检验模型的功效；\n",
    "- 了解多项式回归、批量梯度下降法代码实现等内容。\n"
   ]
  },
  {
   "cell_type": "markdown",
   "id": "27db246c",
   "metadata": {},
   "source": [
    "**(实验报告提交题)编程题**：请参考相关资料，先生成相应数据集，再用LinearRegression、SGDRegressor、Ridge、Lasso四种模型进行求解，并对所得结果进行比较，以理解不同模型的特点。具体要求如下：\n",
    "- (1)假定多元线性模型为$y=3+0.1*x_1-0.8*x_2+5*x_3+20*x_4+15x_3^3$，自变量x1~x4取值范围均为[0,10 )，请参考“用numpy、pandas生成数据集参考资料.doc”文档内容，用numpy中randdom库函数生成200个样本点数据，并存放在pandas中；\n",
    "- (2)根据x1、y数据绘制散点图，查看是否为线性趋势？\n",
    "- (3)用train_test_split()完成训练集、测试集划分(测试数据比例为25%)；\n",
    "- (4)请用LinearRegression进行建模、训练，输出模型参数(含截距)，所得结果与给定参数有多大差异？分别计算所得模型在训练集、测试集中的R方值及均方差，判断是否为过拟合、欠拟合？\n",
    "- (5)请用SGDRegressor进行建模、训练，输出模型参数(含截距)，所得结果与给定参数有多大差异？分别计算所得模型在训练集、测试集中的R方值及均方差，判断是否为过拟合、欠拟合？\n",
    "- (6)请用Ridge模型进行求解，alpha参数分别选用默认值1、20建模、训练，输出相应的模型参数(含截距)，所得结果与给定模型有多大差异？分别计算在训练集、测试集中的R方值及均方差，判断是否为过拟合、欠拟合？alpha参数是否影响模型参数大小？\n",
    "- (7)请用Lasso模型进行求解，alpha参数分别选用默认值1、200建模、训练，输出相应的模型参数(含截距)，所得结果与给定模型有多大差异？分别计算在训练集、测试集中的R方值及均方差，判断是否为过拟合、欠拟合？alpha参数是否影响模型参数个数？\n",
    "\n",
    "- [说明：请提交pdf文档，命名格式：实验X 实验名称(学号_姓名).pdf]  \n",
    "-**（为确保大家的结果一致，随机种子统一设置为42）**\n"
   ]
  },
  {
   "cell_type": "markdown",
   "id": "54142f4a",
   "metadata": {},
   "source": [
    "# 导入库"
   ]
  },
  {
   "cell_type": "code",
   "execution_count": null,
   "id": "9738f1f0",
   "metadata": {},
   "outputs": [],
   "source": []
  },
  {
   "cell_type": "markdown",
   "id": "b2199367",
   "metadata": {},
   "source": [
    "# 数据集准备"
   ]
  },
  {
   "cell_type": "markdown",
   "id": "e817e17e",
   "metadata": {},
   "source": [
    "## 数据获取"
   ]
  },
  {
   "cell_type": "markdown",
   "id": "dcccfd98",
   "metadata": {},
   "source": [
    "(1)构造数据集$y=3+0.1*x_1-0.8*x_2+5*x_3+20*x_4+15x_3^3$ ，自变量x1~x4取值范围均为[0,10 )，请参考“用numpy、pandas生成数据集参考资料.doc”文档内容，用numpy中random库函数生成200个样本点数据，并存放在pandas的dataframe中"
   ]
  },
  {
   "cell_type": "code",
   "execution_count": 26,
   "id": "a64f9840",
   "metadata": {},
   "outputs": [],
   "source": [
    "# 设置随机种子，确保每次生成的随机数相同\n",
    "np.random.seed(42)  "
   ]
  },
  {
   "cell_type": "code",
   "execution_count": null,
   "id": "999bffae",
   "metadata": {},
   "outputs": [],
   "source": []
  },
  {
   "cell_type": "markdown",
   "id": "45138340",
   "metadata": {},
   "source": [
    "## 特征分析"
   ]
  },
  {
   "cell_type": "markdown",
   "id": "b1e5be50",
   "metadata": {},
   "source": [
    "(2)根据x1、y数据绘制散点图，查看是否为线性趋势？"
   ]
  },
  {
   "cell_type": "code",
   "execution_count": null,
   "id": "d1fd1184",
   "metadata": {},
   "outputs": [],
   "source": []
  },
  {
   "cell_type": "markdown",
   "id": "b1eb985f",
   "metadata": {},
   "source": [
    "# 建模"
   ]
  },
  {
   "cell_type": "markdown",
   "id": "96219de6",
   "metadata": {},
   "source": [
    "## 数据集划分"
   ]
  },
  {
   "cell_type": "markdown",
   "id": "0effdc95",
   "metadata": {},
   "source": [
    "(3)用train_test_split()完成训练集、测试集划分(测试数据比例为25%)；"
   ]
  },
  {
   "cell_type": "code",
   "execution_count": null,
   "id": "ad87a11a",
   "metadata": {},
   "outputs": [],
   "source": []
  },
  {
   "cell_type": "markdown",
   "id": "ee6f6ac9",
   "metadata": {},
   "source": [
    "## 模型训练"
   ]
  },
  {
   "cell_type": "markdown",
   "id": "d1caaf28",
   "metadata": {},
   "source": [
    "### LinearRegression回归模型"
   ]
  },
  {
   "cell_type": "markdown",
   "id": "205fbf19",
   "metadata": {},
   "source": [
    "(4)请用LinearRegression进行建模、训练，输出模型参数(含截距)，所得结果与给定参数有多大差异？分别计算所得模型在训练集、测试集中的R方值及均方差，判断是否为过拟合、欠拟合？"
   ]
  },
  {
   "cell_type": "code",
   "execution_count": null,
   "id": "f18e03ea",
   "metadata": {},
   "outputs": [],
   "source": []
  },
  {
   "cell_type": "markdown",
   "id": "7e1a1198",
   "metadata": {},
   "source": [
    "### SGDRegressor回归模型"
   ]
  },
  {
   "cell_type": "markdown",
   "id": "5a34e5f9",
   "metadata": {},
   "source": [
    "(5)请用SGDRegressor进行建模、训练，输出模型参数(含截距)，所得结果与给定参数有多大差异？分别计算所得模型在训练集、测试集中的R方值及均方差，判断是否为过拟合、欠拟合？"
   ]
  },
  {
   "cell_type": "code",
   "execution_count": null,
   "id": "9e8e124b",
   "metadata": {},
   "outputs": [],
   "source": []
  },
  {
   "cell_type": "markdown",
   "id": "73789553",
   "metadata": {},
   "source": [
    "### Ridge回归模型"
   ]
  },
  {
   "cell_type": "markdown",
   "id": "954def88",
   "metadata": {},
   "source": [
    "(6)请用Ridge模型进行求解，alpha参数分别选用默认值1、20建模、训练，输出相应的模型参数(含截距)，所得结果与给定模型有多大差异？分别计算在训练集、测试集中的R方值及均方差，判断是否为过拟合、欠拟合？alpha参数是否影响模型参数大小？"
   ]
  },
  {
   "cell_type": "code",
   "execution_count": null,
   "id": "932af184",
   "metadata": {},
   "outputs": [],
   "source": []
  },
  {
   "cell_type": "markdown",
   "id": "f993bb4c",
   "metadata": {},
   "source": [
    "### Lasso回归模型"
   ]
  },
  {
   "cell_type": "markdown",
   "id": "3a1ccdf0",
   "metadata": {},
   "source": [
    "(7)请用Lasso模型进行求解，alpha参数分别选用默认值1、200建模、训练，输出相应的模型参数(含截距)，所得结果与给定模型有多大差异？分别计算在训练集、测试集中的R方值及均方差，判断是否为过拟合、欠拟合？alpha参数是否影响模型参数个数？"
   ]
  },
  {
   "cell_type": "code",
   "execution_count": null,
   "id": "6ef33146",
   "metadata": {},
   "outputs": [],
   "source": []
  }
 ],
 "metadata": {
  "kernelspec": {
   "display_name": "Python 3 (ipykernel)",
   "language": "python",
   "name": "python3"
  },
  "language_info": {
   "codemirror_mode": {
    "name": "ipython",
    "version": 3
   },
   "file_extension": ".py",
   "mimetype": "text/x-python",
   "name": "python",
   "nbconvert_exporter": "python",
   "pygments_lexer": "ipython3",
   "version": "3.9.12"
  },
  "toc": {
   "base_numbering": 1,
   "nav_menu": {},
   "number_sections": true,
   "sideBar": true,
   "skip_h1_title": false,
   "title_cell": "Table of Contents",
   "title_sidebar": "Contents",
   "toc_cell": false,
   "toc_position": {
    "height": "calc(100% - 180px)",
    "left": "10px",
    "top": "150px",
    "width": "227.225px"
   },
   "toc_section_display": true,
   "toc_window_display": true
  },
  "varInspector": {
   "cols": {
    "lenName": 16,
    "lenType": 16,
    "lenVar": 40
   },
   "kernels_config": {
    "python": {
     "delete_cmd_postfix": "",
     "delete_cmd_prefix": "del ",
     "library": "var_list.py",
     "varRefreshCmd": "print(var_dic_list())"
    },
    "r": {
     "delete_cmd_postfix": ") ",
     "delete_cmd_prefix": "rm(",
     "library": "var_list.r",
     "varRefreshCmd": "cat(var_dic_list()) "
    }
   },
   "types_to_exclude": [
    "module",
    "function",
    "builtin_function_or_method",
    "instance",
    "_Feature"
   ],
   "window_display": false
  }
 },
 "nbformat": 4,
 "nbformat_minor": 5
}
