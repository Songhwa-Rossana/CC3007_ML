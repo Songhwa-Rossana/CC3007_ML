{
  "cells": [
    {
      "cell_type": "markdown",
      "id": "bb035cfc",
      "metadata": {
        "id": "bb035cfc"
      },
      "source": [
        "<font size=6> **实验2 线性回归**</font>"
      ]
    },
    {
      "cell_type": "markdown",
      "id": "8eb70a14",
      "metadata": {
        "id": "8eb70a14"
      },
      "source": [
        "- 掌握数据准备(行列增删、维度变换、训练集与测试集随机划分)、数据可视化相关操作，能够利用sklearn中的LinearRegression、SGDRegressor、Ridge、Lasso进行建模、训练、预测、评价等基本操作；\n",
        "- 理解Ridge、Lasso回归中超参数alpha的作用及调优；\n",
        "- 能够利用numpy、pandas等工具按要求生成数据集，用不同模型得到相应参数，分别计算回归指标，检验模型的功效；\n",
        "- 了解多项式回归、批量梯度下降法代码实现等内容。\n"
      ]
    },
    {
      "cell_type": "markdown",
      "id": "27db246c",
      "metadata": {
        "id": "27db246c"
      },
      "source": [
        "**(实验报告提交题)编程题**：请参考相关资料，先生成相应数据集，再用LinearRegression、SGDRegressor、Ridge、Lasso四种模型进行求解，并对所得结果进行比较，以理解不同模型的特点。具体要求如下：\n",
        "- (1)假定多元线性模型为$y=3+0.1*x_1-0.8*x_2+5*x_3+20*x_4+15x_3^3$，自变量x1~x4取值范围均为[0,10 )，请参考“用numpy、pandas生成数据集参考资料.doc”文档内容，用numpy中randdom库函数生成200个样本点数据，并存放在pandas中；\n",
        "- (2)根据x1、y数据绘制散点图，查看是否为线性趋势？\n",
        "- (3)用train_test_split()完成训练集、测试集划分(测试数据比例为25%)；\n",
        "- (4)请用LinearRegression进行建模、训练，输出模型参数(含截距)，所得结果与给定参数有多大差异？分别计算所得模型在训练集、测试集中的R方值及均方差，判断是否为过拟合、欠拟合？\n",
        "- (5)请用SGDRegressor进行建模、训练，输出模型参数(含截距)，所得结果与给定参数有多大差异？分别计算所得模型在训练集、测试集中的R方值及均方差，判断是否为过拟合、欠拟合？\n",
        "- (6)请用Ridge模型进行求解，alpha参数分别选用默认值1、20建模、训练，输出相应的模型参数(含截距)，所得结果与给定模型有多大差异？分别计算在训练集、测试集中的R方值及均方差，判断是否为过拟合、欠拟合？alpha参数是否影响模型参数大小？\n",
        "- (7)请用Lasso模型进行求解，alpha参数分别选用默认值1、200建模、训练，输出相应的模型参数(含截距)，所得结果与给定模型有多大差异？分别计算在训练集、测试集中的R方值及均方差，判断是否为过拟合、欠拟合？alpha参数是否影响模型参数个数？\n",
        "\n",
        "- [说明：请提交pdf文档，命名格式：实验X 实验名称(学号_姓名).pdf]  \n",
        "-**（为确保大家的结果一致，随机种子统一设置为42）**\n"
      ]
    },
    {
      "cell_type": "markdown",
      "id": "54142f4a",
      "metadata": {
        "id": "54142f4a"
      },
      "source": [
        "# 导入库"
      ]
    },
    {
      "cell_type": "code",
      "execution_count": null,
      "id": "9738f1f0",
      "metadata": {
        "id": "9738f1f0"
      },
      "outputs": [],
      "source": [
        "import numpy as np\n",
        "import pandas as pd\n",
        "import matplotlib.pyplot as plt\n",
        "from sklearn.model_selection import train_test_split\n",
        "from sklearn.linear_model import LinearRegression,SGDRegressor,Ridge,Lasso\n",
        "from sklearn.metrics import r2_score,mean_squared_error"
      ]
    },
    {
      "cell_type": "markdown",
      "id": "b2199367",
      "metadata": {
        "id": "b2199367"
      },
      "source": [
        "# 数据集准备"
      ]
    },
    {
      "cell_type": "markdown",
      "id": "e817e17e",
      "metadata": {
        "id": "e817e17e"
      },
      "source": [
        "## 数据获取"
      ]
    },
    {
      "cell_type": "markdown",
      "id": "dcccfd98",
      "metadata": {
        "id": "dcccfd98"
      },
      "source": [
        "(1)构造数据集$y=3+0.1*x_1-0.8*x_2+5*x_3+20*x_4+15x_3^3$ ，自变量x1~x4取值范围均为[0,10 )，请参考“用numpy、pandas生成数据集参考资料.doc”文档内容，用numpy中random库函数生成200个样本点数据，并存放在pandas的dataframe中"
      ]
    },
    {
      "cell_type": "code",
      "execution_count": null,
      "id": "a64f9840",
      "metadata": {
        "id": "a64f9840"
      },
      "outputs": [],
      "source": [
        "# 设置随机种子，确保每次生成的随机数相同\n",
        "np.random.seed(42)"
      ]
    },
    {
      "cell_type": "code",
      "execution_count": null,
      "id": "999bffae",
      "metadata": {
        "colab": {
          "base_uri": "https://localhost:8080/",
          "height": 206
        },
        "id": "999bffae",
        "outputId": "75c945c7-ebc1-4341-d2f9-8f5ebf038ca7"
      },
      "outputs": [
        {
          "output_type": "execute_result",
          "data": {
            "text/plain": [
              "         x1        x2        x3        x4            y\n",
              "0  7.072386  1.851329  7.582632  1.670419  6613.147790\n",
              "1  1.525390  5.419009  0.245869  1.676192    33.793468\n",
              "2  5.762884  8.729458  0.221236  0.366714     5.195611\n",
              "3  6.067150  7.322249  3.236102  7.364020   669.554111\n",
              "4  4.241307  8.065611  4.886432  6.638045  1904.280612"
            ],
            "text/html": [
              "\n",
              "  <div id=\"df-3284b612-82db-4685-8c89-98b207f6d702\" class=\"colab-df-container\">\n",
              "    <div>\n",
              "<style scoped>\n",
              "    .dataframe tbody tr th:only-of-type {\n",
              "        vertical-align: middle;\n",
              "    }\n",
              "\n",
              "    .dataframe tbody tr th {\n",
              "        vertical-align: top;\n",
              "    }\n",
              "\n",
              "    .dataframe thead th {\n",
              "        text-align: right;\n",
              "    }\n",
              "</style>\n",
              "<table border=\"1\" class=\"dataframe\">\n",
              "  <thead>\n",
              "    <tr style=\"text-align: right;\">\n",
              "      <th></th>\n",
              "      <th>x1</th>\n",
              "      <th>x2</th>\n",
              "      <th>x3</th>\n",
              "      <th>x4</th>\n",
              "      <th>y</th>\n",
              "    </tr>\n",
              "  </thead>\n",
              "  <tbody>\n",
              "    <tr>\n",
              "      <th>0</th>\n",
              "      <td>7.072386</td>\n",
              "      <td>1.851329</td>\n",
              "      <td>7.582632</td>\n",
              "      <td>1.670419</td>\n",
              "      <td>6613.147790</td>\n",
              "    </tr>\n",
              "    <tr>\n",
              "      <th>1</th>\n",
              "      <td>1.525390</td>\n",
              "      <td>5.419009</td>\n",
              "      <td>0.245869</td>\n",
              "      <td>1.676192</td>\n",
              "      <td>33.793468</td>\n",
              "    </tr>\n",
              "    <tr>\n",
              "      <th>2</th>\n",
              "      <td>5.762884</td>\n",
              "      <td>8.729458</td>\n",
              "      <td>0.221236</td>\n",
              "      <td>0.366714</td>\n",
              "      <td>5.195611</td>\n",
              "    </tr>\n",
              "    <tr>\n",
              "      <th>3</th>\n",
              "      <td>6.067150</td>\n",
              "      <td>7.322249</td>\n",
              "      <td>3.236102</td>\n",
              "      <td>7.364020</td>\n",
              "      <td>669.554111</td>\n",
              "    </tr>\n",
              "    <tr>\n",
              "      <th>4</th>\n",
              "      <td>4.241307</td>\n",
              "      <td>8.065611</td>\n",
              "      <td>4.886432</td>\n",
              "      <td>6.638045</td>\n",
              "      <td>1904.280612</td>\n",
              "    </tr>\n",
              "  </tbody>\n",
              "</table>\n",
              "</div>\n",
              "    <div class=\"colab-df-buttons\">\n",
              "\n",
              "  <div class=\"colab-df-container\">\n",
              "    <button class=\"colab-df-convert\" onclick=\"convertToInteractive('df-3284b612-82db-4685-8c89-98b207f6d702')\"\n",
              "            title=\"Convert this dataframe to an interactive table.\"\n",
              "            style=\"display:none;\">\n",
              "\n",
              "  <svg xmlns=\"http://www.w3.org/2000/svg\" height=\"24px\" viewBox=\"0 -960 960 960\">\n",
              "    <path d=\"M120-120v-720h720v720H120Zm60-500h600v-160H180v160Zm220 220h160v-160H400v160Zm0 220h160v-160H400v160ZM180-400h160v-160H180v160Zm440 0h160v-160H620v160ZM180-180h160v-160H180v160Zm440 0h160v-160H620v160Z\"/>\n",
              "  </svg>\n",
              "    </button>\n",
              "\n",
              "  <style>\n",
              "    .colab-df-container {\n",
              "      display:flex;\n",
              "      gap: 12px;\n",
              "    }\n",
              "\n",
              "    .colab-df-convert {\n",
              "      background-color: #E8F0FE;\n",
              "      border: none;\n",
              "      border-radius: 50%;\n",
              "      cursor: pointer;\n",
              "      display: none;\n",
              "      fill: #1967D2;\n",
              "      height: 32px;\n",
              "      padding: 0 0 0 0;\n",
              "      width: 32px;\n",
              "    }\n",
              "\n",
              "    .colab-df-convert:hover {\n",
              "      background-color: #E2EBFA;\n",
              "      box-shadow: 0px 1px 2px rgba(60, 64, 67, 0.3), 0px 1px 3px 1px rgba(60, 64, 67, 0.15);\n",
              "      fill: #174EA6;\n",
              "    }\n",
              "\n",
              "    .colab-df-buttons div {\n",
              "      margin-bottom: 4px;\n",
              "    }\n",
              "\n",
              "    [theme=dark] .colab-df-convert {\n",
              "      background-color: #3B4455;\n",
              "      fill: #D2E3FC;\n",
              "    }\n",
              "\n",
              "    [theme=dark] .colab-df-convert:hover {\n",
              "      background-color: #434B5C;\n",
              "      box-shadow: 0px 1px 3px 1px rgba(0, 0, 0, 0.15);\n",
              "      filter: drop-shadow(0px 1px 2px rgba(0, 0, 0, 0.3));\n",
              "      fill: #FFFFFF;\n",
              "    }\n",
              "  </style>\n",
              "\n",
              "    <script>\n",
              "      const buttonEl =\n",
              "        document.querySelector('#df-3284b612-82db-4685-8c89-98b207f6d702 button.colab-df-convert');\n",
              "      buttonEl.style.display =\n",
              "        google.colab.kernel.accessAllowed ? 'block' : 'none';\n",
              "\n",
              "      async function convertToInteractive(key) {\n",
              "        const element = document.querySelector('#df-3284b612-82db-4685-8c89-98b207f6d702');\n",
              "        const dataTable =\n",
              "          await google.colab.kernel.invokeFunction('convertToInteractive',\n",
              "                                                    [key], {});\n",
              "        if (!dataTable) return;\n",
              "\n",
              "        const docLinkHtml = 'Like what you see? Visit the ' +\n",
              "          '<a target=\"_blank\" href=https://colab.research.google.com/notebooks/data_table.ipynb>data table notebook</a>'\n",
              "          + ' to learn more about interactive tables.';\n",
              "        element.innerHTML = '';\n",
              "        dataTable['output_type'] = 'display_data';\n",
              "        await google.colab.output.renderOutput(dataTable, element);\n",
              "        const docLink = document.createElement('div');\n",
              "        docLink.innerHTML = docLinkHtml;\n",
              "        element.appendChild(docLink);\n",
              "      }\n",
              "    </script>\n",
              "  </div>\n",
              "\n",
              "\n",
              "<div id=\"df-bdcdd37c-6542-4c6e-a3a1-93831fd4e110\">\n",
              "  <button class=\"colab-df-quickchart\" onclick=\"quickchart('df-bdcdd37c-6542-4c6e-a3a1-93831fd4e110')\"\n",
              "            title=\"Suggest charts\"\n",
              "            style=\"display:none;\">\n",
              "\n",
              "<svg xmlns=\"http://www.w3.org/2000/svg\" height=\"24px\"viewBox=\"0 0 24 24\"\n",
              "     width=\"24px\">\n",
              "    <g>\n",
              "        <path d=\"M19 3H5c-1.1 0-2 .9-2 2v14c0 1.1.9 2 2 2h14c1.1 0 2-.9 2-2V5c0-1.1-.9-2-2-2zM9 17H7v-7h2v7zm4 0h-2V7h2v10zm4 0h-2v-4h2v4z\"/>\n",
              "    </g>\n",
              "</svg>\n",
              "  </button>\n",
              "\n",
              "<style>\n",
              "  .colab-df-quickchart {\n",
              "      --bg-color: #E8F0FE;\n",
              "      --fill-color: #1967D2;\n",
              "      --hover-bg-color: #E2EBFA;\n",
              "      --hover-fill-color: #174EA6;\n",
              "      --disabled-fill-color: #AAA;\n",
              "      --disabled-bg-color: #DDD;\n",
              "  }\n",
              "\n",
              "  [theme=dark] .colab-df-quickchart {\n",
              "      --bg-color: #3B4455;\n",
              "      --fill-color: #D2E3FC;\n",
              "      --hover-bg-color: #434B5C;\n",
              "      --hover-fill-color: #FFFFFF;\n",
              "      --disabled-bg-color: #3B4455;\n",
              "      --disabled-fill-color: #666;\n",
              "  }\n",
              "\n",
              "  .colab-df-quickchart {\n",
              "    background-color: var(--bg-color);\n",
              "    border: none;\n",
              "    border-radius: 50%;\n",
              "    cursor: pointer;\n",
              "    display: none;\n",
              "    fill: var(--fill-color);\n",
              "    height: 32px;\n",
              "    padding: 0;\n",
              "    width: 32px;\n",
              "  }\n",
              "\n",
              "  .colab-df-quickchart:hover {\n",
              "    background-color: var(--hover-bg-color);\n",
              "    box-shadow: 0 1px 2px rgba(60, 64, 67, 0.3), 0 1px 3px 1px rgba(60, 64, 67, 0.15);\n",
              "    fill: var(--button-hover-fill-color);\n",
              "  }\n",
              "\n",
              "  .colab-df-quickchart-complete:disabled,\n",
              "  .colab-df-quickchart-complete:disabled:hover {\n",
              "    background-color: var(--disabled-bg-color);\n",
              "    fill: var(--disabled-fill-color);\n",
              "    box-shadow: none;\n",
              "  }\n",
              "\n",
              "  .colab-df-spinner {\n",
              "    border: 2px solid var(--fill-color);\n",
              "    border-color: transparent;\n",
              "    border-bottom-color: var(--fill-color);\n",
              "    animation:\n",
              "      spin 1s steps(1) infinite;\n",
              "  }\n",
              "\n",
              "  @keyframes spin {\n",
              "    0% {\n",
              "      border-color: transparent;\n",
              "      border-bottom-color: var(--fill-color);\n",
              "      border-left-color: var(--fill-color);\n",
              "    }\n",
              "    20% {\n",
              "      border-color: transparent;\n",
              "      border-left-color: var(--fill-color);\n",
              "      border-top-color: var(--fill-color);\n",
              "    }\n",
              "    30% {\n",
              "      border-color: transparent;\n",
              "      border-left-color: var(--fill-color);\n",
              "      border-top-color: var(--fill-color);\n",
              "      border-right-color: var(--fill-color);\n",
              "    }\n",
              "    40% {\n",
              "      border-color: transparent;\n",
              "      border-right-color: var(--fill-color);\n",
              "      border-top-color: var(--fill-color);\n",
              "    }\n",
              "    60% {\n",
              "      border-color: transparent;\n",
              "      border-right-color: var(--fill-color);\n",
              "    }\n",
              "    80% {\n",
              "      border-color: transparent;\n",
              "      border-right-color: var(--fill-color);\n",
              "      border-bottom-color: var(--fill-color);\n",
              "    }\n",
              "    90% {\n",
              "      border-color: transparent;\n",
              "      border-bottom-color: var(--fill-color);\n",
              "    }\n",
              "  }\n",
              "</style>\n",
              "\n",
              "  <script>\n",
              "    async function quickchart(key) {\n",
              "      const quickchartButtonEl =\n",
              "        document.querySelector('#' + key + ' button');\n",
              "      quickchartButtonEl.disabled = true;  // To prevent multiple clicks.\n",
              "      quickchartButtonEl.classList.add('colab-df-spinner');\n",
              "      try {\n",
              "        const charts = await google.colab.kernel.invokeFunction(\n",
              "            'suggestCharts', [key], {});\n",
              "      } catch (error) {\n",
              "        console.error('Error during call to suggestCharts:', error);\n",
              "      }\n",
              "      quickchartButtonEl.classList.remove('colab-df-spinner');\n",
              "      quickchartButtonEl.classList.add('colab-df-quickchart-complete');\n",
              "    }\n",
              "    (() => {\n",
              "      let quickchartButtonEl =\n",
              "        document.querySelector('#df-bdcdd37c-6542-4c6e-a3a1-93831fd4e110 button');\n",
              "      quickchartButtonEl.style.display =\n",
              "        google.colab.kernel.accessAllowed ? 'block' : 'none';\n",
              "    })();\n",
              "  </script>\n",
              "</div>\n",
              "\n",
              "    </div>\n",
              "  </div>\n"
            ],
            "application/vnd.google.colaboratory.intrinsic+json": {
              "type": "dataframe",
              "variable_name": "df",
              "summary": "{\n  \"name\": \"df\",\n  \"rows\": 200,\n  \"fields\": [\n    {\n      \"column\": \"x1\",\n      \"properties\": {\n        \"dtype\": \"number\",\n        \"std\": 2.8533279964142606,\n        \"min\": 0.04632023004602859,\n        \"max\": 9.968742518459473,\n        \"num_unique_values\": 200,\n        \"samples\": [\n          2.0498429541582097,\n          5.188380571260721,\n          2.2460482293998196\n        ],\n        \"semantic_type\": \"\",\n        \"description\": \"\"\n      }\n    },\n    {\n      \"column\": \"x2\",\n      \"properties\": {\n        \"dtype\": \"number\",\n        \"std\": 3.033412567897458,\n        \"min\": 0.0638587171683358,\n        \"max\": 9.979341105333376,\n        \"num_unique_values\": 200,\n        \"samples\": [\n          1.7652803200550826,\n          9.252483174156659,\n          0.3700763471549262\n        ],\n        \"semantic_type\": \"\",\n        \"description\": \"\"\n      }\n    },\n    {\n      \"column\": \"x3\",\n      \"properties\": {\n        \"dtype\": \"number\",\n        \"std\": 2.9098558373541588,\n        \"min\": 0.09770847419183659,\n        \"max\": 9.971245001577111,\n        \"num_unique_values\": 200,\n        \"samples\": [\n          2.0015024424481007,\n          2.207696127887604,\n          8.940992036791345\n        ],\n        \"semantic_type\": \"\",\n        \"description\": \"\"\n      }\n    },\n    {\n      \"column\": \"x4\",\n      \"properties\": {\n        \"dtype\": \"number\",\n        \"std\": 2.882062180910697,\n        \"min\": 0.04939980934409616,\n        \"max\": 9.994137257706665,\n        \"num_unique_values\": 200,\n        \"samples\": [\n          6.682127985550163,\n          9.366056922949614,\n          4.547398556338591\n        ],\n        \"semantic_type\": \"\",\n        \"description\": \"\"\n      }\n    },\n    {\n      \"column\": \"y\",\n      \"properties\": {\n        \"dtype\": \"number\",\n        \"std\": 4253.35480989232,\n        \"min\": -2.27457114513068,\n        \"max\": 15093.68255237364,\n        \"num_unique_values\": 200,\n        \"samples\": [\n          265.7134748141442,\n          355.8785579158822,\n          10859.904552815255\n        ],\n        \"semantic_type\": \"\",\n        \"description\": \"\"\n      }\n    }\n  ]\n}"
            }
          },
          "metadata": {},
          "execution_count": 4
        }
      ],
      "source": [
        "x = 200 of\n",
        "x1 = np.random.uniform(0, 10, x)\n",
        "x2 = np.random.uniform(0, 10, x)\n",
        "x3 = np.random.uniform(0, 10, x)\n",
        "x4 = np.random.uniform(0, 10, x)\n",
        "\n",
        "y = 3 + 0.1 * x1 - 0.8 * x2 + 5 * x3 + 20 * x4 + 15 * x3 ** 3\n",
        "\n",
        "df = pd.DataFrame({'x1': x1, 'x2': x2, 'x3': x3, 'x4': x4, 'y': y})\n",
        "df.head()"
      ]
    },
    {
      "cell_type": "markdown",
      "id": "45138340",
      "metadata": {
        "id": "45138340"
      },
      "source": [
        "## 特征分析"
      ]
    },
    {
      "cell_type": "markdown",
      "id": "b1e5be50",
      "metadata": {
        "id": "b1e5be50"
      },
      "source": [
        "(2)根据x1、y数据绘制散点图，查看是否为线性趋势？"
      ]
    },
    {
      "cell_type": "code",
      "execution_count": null,
      "id": "d1fd1184",
      "metadata": {
        "colab": {
          "base_uri": "https://localhost:8080/",
          "height": 472
        },
        "id": "d1fd1184",
        "outputId": "536001d3-82ca-4029-f4cc-999eb59dec03"
      },
      "outputs": [
        {
          "output_type": "display_data",
          "data": {
            "text/plain": [
              "<Figure size 640x480 with 1 Axes>"
            ],
            "image/png": "[encoded data removed]"
          },
          "metadata": {}
        }
      ],
      "source": [
        "plt.scatter(df['x1'], df['y'])\n",
        "plt.title('x1 y Scatter')\n",
        "plt.xlabel('x1')\n",
        "plt.ylabel('y')\n",
        "plt.show()"
      ]
    },
    {
      "cell_type": "markdown",
      "id": "b1eb985f",
      "metadata": {
        "id": "b1eb985f"
      },
      "source": [
        "# 建模"
      ]
    },
    {
      "cell_type": "markdown",
      "id": "96219de6",
      "metadata": {
        "id": "96219de6"
      },
      "source": [
        "## 数据集划分"
      ]
    },
    {
      "cell_type": "markdown",
      "id": "0effdc95",
      "metadata": {
        "id": "0effdc95"
      },
      "source": [
        "(3)用train_test_split()完成训练集、测试集划分(测试数据比例为25%)；"
      ]
    },
    {
      "cell_type": "code",
      "execution_count": null,
      "id": "ad87a11a",
      "metadata": {
        "id": "ad87a11a"
      },
      "outputs": [],
      "source": [
        "X = df.drop('y', axis=1)\n",
        "y = df['y']\n",
        "X_train, X_test, y_train, y_test = train_test_split(X, y, test_size=0.25, random_state=42)\n"
      ]
    },
    {
      "cell_type": "markdown",
      "id": "ee6f6ac9",
      "metadata": {
        "id": "ee6f6ac9"
      },
      "source": [
        "## 模型训练"
      ]
    },
    {
      "cell_type": "markdown",
      "id": "d1caaf28",
      "metadata": {
        "id": "d1caaf28"
      },
      "source": [
        "### LinearRegression回归模型"
      ]
    },
    {
      "cell_type": "markdown",
      "id": "205fbf19",
      "metadata": {
        "id": "205fbf19"
      },
      "source": [
        "(4)请用LinearRegression进行建模、训练，输出模型参数(含截距)，所得结果与给定参数有多大差异？分别计算所得模型在训练集、测试集中的R方值及均方差，判断是否为过拟合、欠拟合？"
      ]
    },
    {
      "cell_type": "code",
      "execution_count": null,
      "id": "f18e03ea",
      "metadata": {
        "colab": {
          "base_uri": "https://localhost:8080/"
        },
        "id": "f18e03ea",
        "outputId": "d3149e3b-f2c5-4af1-c7b5-4354fc8797d4"
      },
      "outputs": [
        {
          "output_type": "stream",
          "name": "stdout",
          "text": [
            "LinearRegression模型的参数 -1867.095881660362 [ -71.88206108  -54.08403096 1283.73632131   -8.75568278]\n",
            "训练集的R方值 0.835250040314458\n",
            "测试集的R方值 0.8328699774685397\n",
            "训练集的均方差 2742213.7778952457\n",
            "测试集的均方差 3667230.951034602\n"
          ]
        }
      ],
      "source": [
        "lr = LinearRegression()\n",
        "lr.fit(X_train, y_train)\n",
        "\n",
        "print('LinearRegression模型的参数', lr.intercept_, lr.coef_)\n",
        "print('训练集的R方值', lr.score(X_train, y_train))\n",
        "print('测试集的R方值', lr.score(X_test, y_test))\n",
        "#lr.score(X_train, y_train)\n",
        "\n",
        "print('训练集的均方差', mean_squared_error(y_train, lr.predict(X_train)))\n",
        "print('测试集的均方差', mean_squared_error(y_test, lr.predict(X_test)))"
      ]
    },
    {
      "cell_type": "markdown",
      "source": [
        "**训练集的评估效果好于测试集，模型过拟合**"
      ],
      "metadata": {
        "id": "fQ2fwCPI0AAe"
      },
      "id": "fQ2fwCPI0AAe"
    },
    {
      "cell_type": "markdown",
      "id": "7e1a1198",
      "metadata": {
        "id": "7e1a1198"
      },
      "source": [
        "### SGDRegressor回归模型"
      ]
    },
    {
      "cell_type": "markdown",
      "id": "5a34e5f9",
      "metadata": {
        "id": "5a34e5f9"
      },
      "source": [
        "(5)请用SGDRegressor进行建模、训练，输出模型参数(含截距)，所得结果与给定参数有多大差异？分别计算所得模型在训练集、测试集中的R方值及均方差，判断是否为过拟合、欠拟合？"
      ]
    },
    {
      "cell_type": "code",
      "execution_count": null,
      "id": "9e8e124b",
      "metadata": {
        "colab": {
          "base_uri": "https://localhost:8080/"
        },
        "id": "9e8e124b",
        "outputId": "e2312cb2-a020-4e5a-f4ee-fcceeb7cfa99"
      },
      "outputs": [
        {
          "output_type": "stream",
          "name": "stdout",
          "text": [
            "SGDRegressor模型的参数 [-385.35980855] [-110.8406072  -113.61996282 1305.67873384  -24.72932374]\n",
            "训练集的R方值 0.7726031153043953\n",
            "测试集的R方值 0.782902823349388\n",
            "训练集的均方差 3784953.0977303586\n",
            "测试集的均方差 4763629.379906808\n"
          ]
        }
      ],
      "source": [
        "sgd = SGDRegressor(random_state=42)\n",
        "sgd.fit(X_train, y_train)\n",
        "\n",
        "print('SGDRegressor模型的参数', sgd.intercept_, sgd.coef_)\n",
        "print('训练集的R方值', sgd.score(X_train, y_train))\n",
        "print('测试集的R方值', sgd.score(X_test, y_test))\n",
        "\n",
        "print('训练集的均方差', mean_squared_error(y_train, sgd.predict(X_train)))\n",
        "print('测试集的均方差', mean_squared_error(y_test, sgd.predict(X_test)))\n"
      ]
    },
    {
      "cell_type": "markdown",
      "source": [
        "**训练集的评估效果好于测试集，模型过拟合**"
      ],
      "metadata": {
        "id": "pN9u0dn0013m"
      },
      "id": "pN9u0dn0013m"
    },
    {
      "cell_type": "markdown",
      "id": "73789553",
      "metadata": {
        "id": "73789553"
      },
      "source": [
        "### Ridge回归模型"
      ]
    },
    {
      "cell_type": "markdown",
      "id": "954def88",
      "metadata": {
        "id": "954def88"
      },
      "source": [
        "(6)请用Ridge模型进行求解，alpha参数分别选用默认值1、20建模、训练，输出相应的模型参数(含截距)，所得结果与给定模型有多大差异？分别计算在训练集、测试集中的R方值及均方差，判断是否为过拟合、欠拟合？alpha参数是否影响模型参数大小？"
      ]
    },
    {
      "cell_type": "code",
      "execution_count": null,
      "id": "932af184",
      "metadata": {
        "colab": {
          "base_uri": "https://localhost:8080/"
        },
        "id": "932af184",
        "outputId": "cad2cb2e-3cd4-4e17-8842-12a912ed6db1"
      },
      "outputs": [
        {
          "output_type": "stream",
          "name": "stdout",
          "text": [
            "Ridge模型(alpha=1)的参数\n",
            "截距: -1863.7756033330475\n",
            "系数: [ -71.70596928  -54.01711034 1282.70661916   -8.65966816]\n",
            "训练集的R方值: 0.8352495044566555\n",
            "测试集的R方值: 0.8326977570289391\n",
            "训练集的均方差: 2742222.6970880143\n",
            "测试集的均方差: 3671009.8778661694\n",
            "Ridge模型(alpha=2)的参数\n",
            "截距: -1860.4584935045882\n",
            "系数: [ -71.53037227  -53.95038083 1281.67859911   -8.5639781 ]\n",
            "训练集的R方值: 0.835247900416429\n",
            "测试集的R方值: 0.8325249903273816\n",
            "训练集的均方差: 2742249.395857578\n",
            "测试集的均方差: 3674800.790986764\n",
            "Ridge模型(alpha=3)的参数\n",
            "截距: -1857.1445508879629\n",
            "系数: [ -71.35526828  -53.88384163 1280.65225695   -8.46861129]\n",
            "训练集的R方值: 0.8352452334734711\n",
            "测试集的R方值: 0.8323516808231921\n",
            "训练集的均方差: 2742293.7863250356\n",
            "测试集的均方差: 3678603.614490558\n",
            "Ridge模型(alpha=4)的参数\n",
            "截距: -1853.8337741749879\n",
            "系数: [ -71.18065554  -53.81749196 1279.62758851   -8.37356645]\n",
            "训练集的R方值: 0.835241508880825\n",
            "测试集的R方值: 0.8321778319566804\n",
            "训练集的均方差: 2742355.7810550523\n",
            "测试集的均方差: 3682418.272888954\n",
            "Ridge模型(alpha=5)的参数\n",
            "截距: -1850.5261620365168\n",
            "系数: [ -71.00653228  -53.75133105 1278.60458959   -8.2788423 ]\n",
            "训练集的R方值: 0.8352367318650382\n",
            "测试集的R方值: 0.8320034471492557\n",
            "训练集的均方差: 2742435.293053314\n",
            "测试集的均方差: 3686244.6911080866\n",
            "Ridge模型(alpha=6)的参数\n",
            "截距: -1847.221713122664\n",
            "系数: [ -70.83289675  -53.68535812 1277.58325605   -8.18443756]\n",
            "训练集的R方值: 0.8352309076263128\n",
            "测试集的R方值: 0.8318285298035404\n",
            "训练集的均方差: 2742532.235764006\n",
            "测试集的均方差: 3690082.794486306\n",
            "Ridge模型(alpha=7)的参数\n",
            "截距: -1843.9204260629872\n",
            "系数: [ -70.65974722  -53.6195724  1276.56358372   -8.09035095]\n",
            "训练集的R方值: 0.8352240413386582\n",
            "测试集的R方值: 0.8316530833034831\n",
            "训练集的均方差: 2742646.5230672946\n",
            "测试集的均方差: 3693932.508771718\n",
            "Ridge模型(alpha=8)的参数\n",
            "截距: -1840.6222994667319\n",
            "系数: [ -70.48708193  -53.55397312 1275.54556848   -7.99658122]\n",
            "训练集的R方值: 0.8352161381500396\n",
            "测试集的R方值: 0.8314771110144722\n",
            "训练集的均方差: 2742778.06927684\n",
            "测试集的均方差: 3697793.7601196845\n",
            "Ridge模型(alpha=9)的参数\n",
            "截距: -1837.3273319230016\n",
            "系数: [ -70.31489915  -53.48855952 1274.52920621   -7.9031271 ]\n",
            "训练集的R方值: 0.8352072031825274\n",
            "测试集的R方值: 0.8313006162834461\n",
            "训练集的均方差: 2742926.7891373113\n",
            "测试集的均方差: 3701666.475090398\n",
            "Ridge模型(alpha=10)的参数\n",
            "截距: -1834.0355220009865\n",
            "系数: [ -70.14319718  -53.42333084 1273.5144928    -7.80998734]\n",
            "训练集的R方值: 0.8351972415324448\n",
            "测试集的R方值: 0.8311236024390053\n",
            "训练集的均方差: 2743092.597821933\n",
            "测试集的均方差: 3705550.5806464357\n",
            "Ridge模型(alpha=11)的参数\n",
            "截距: -1830.7468682501526\n",
            "系数: [ -69.97197428  -53.35828633 1272.50142415   -7.7171607 ]\n",
            "训练集的R方值: 0.835186258270515\n",
            "测试集的R方值: 0.8309460727915218\n",
            "训练集的均方差: 2743275.4109300384\n",
            "测试集的均方差: 3709446.004150343\n",
            "Ridge模型(alpha=12)的参数\n",
            "截距: -1827.461369200451\n",
            "系数: [ -69.80122876  -53.29342523 1271.4899962    -7.62464593]\n",
            "训练集的R方值: 0.835174258442007\n",
            "测试集的R方值: 0.8307680306332491\n",
            "训练集的均方差: 2743475.14448463\n",
            "测试集的均方差: 3713352.6733622355\n",
            "Ridge模型(alpha=13)的参数\n",
            "截距: -1824.179023362511\n",
            "系数: [ -69.63095891  -53.2287468  1270.48020487   -7.5324418 ]\n",
            "训练集的R方值: 0.8351612470668808\n",
            "测试集的R方值: 0.8305894792384305\n",
            "训练集的均方差: 2743691.7149299807\n",
            "测试集的均方差: 3717270.5164374136\n",
            "Ridge模型(alpha=14)的参数\n",
            "截距: -1820.8998292278397\n",
            "系数: [ -69.46116304  -53.16425029 1269.47204611   -7.44054708]\n",
            "训练集的R方值: 0.8351472291399307\n",
            "测试集的R方值: 0.8304104218634073\n",
            "训练集的均方差: 2743925.03912923\n",
            "测试集的均方差: 3721199.461923989\n",
            "Ridge模型(alpha=15)的参数\n",
            "截距: -1817.6237852690188\n",
            "系数: [ -69.29183947  -53.09993496 1268.4655159    -7.34896055]\n",
            "训练集的R方值: 0.8351322096309293\n",
            "测试集的R方值: 0.8302308617467256\n",
            "训练集的均方差: 2744175.0343620027\n",
            "测试集的均方差: 3725139.438760541\n",
            "Ridge模型(alpha=16)的参数\n",
            "截距: -1814.3508899398926\n",
            "系数: [ -69.12298652  -53.03580008 1267.46061019   -7.25768099]\n",
            "训练集的R方值: 0.8351161934847693\n",
            "测试集的R方值: 0.8300508021092431\n",
            "训练集的均方差: 2744441.6183220386\n",
            "测试集的均方差: 3729090.3762737797\n",
            "Ridge模型(alpha=17)的参数\n",
            "截距: -1811.0811416757674\n",
            "系数: [ -68.95460251  -52.97184492 1266.45732499   -7.16670719]\n",
            "训练集的R方值: 0.8350991856216045\n",
            "测试集的R方值: 0.829870246154235\n",
            "训练集的均方差: 2744724.709114851\n",
            "测试集的均方差: 3733052.2041762117\n",
            "Ridge模型(alpha=18)的参数\n",
            "截距: -1807.8145388936068\n",
            "系数: [ -68.78668579  -52.90806874 1265.4556563    -7.07603795]\n",
            "训练集的R方值: 0.8350811909369904\n",
            "测试集的R方值: 0.8296891970674988\n",
            "训练集的均方差: 2745024.2252553822\n",
            "测试集的均方差: 3737024.852563851\n",
            "Ridge模型(alpha=19)的参数\n",
            "截距: -1804.5510799921944\n",
            "系数: [ -68.6192347   -52.84447082 1264.45560013   -6.98567206]\n",
            "训练集的R方值: 0.8350622143020233\n",
            "测试集的R方值: 0.829507658017458\n",
            "训练集的均方差: 2745340.0856656916\n",
            "测试集的均方差: 3741008.251913933\n"
          ]
        }
      ],
      "source": [
        "for alpha in range(1, 20):\n",
        "    ridge = Ridge(alpha=alpha, random_state=42)\n",
        "    ridge.fit(X_train, y_train)\n",
        "\n",
        "    print(f\"Ridge模型(alpha={alpha})的参数\")\n",
        "    print(\"截距:\", ridge.intercept_)\n",
        "    print(\"系数:\", ridge.coef_)\n",
        "    print(\"训练集的R方值:\", ridge.score(X_train, y_train))\n",
        "    print(\"测试集的R方值:\", ridge.score(X_test, y_test))\n",
        "    print(\"训练集的均方差:\", mean_squared_error(y_train, ridge.predict(X_train)))\n",
        "    print(\"测试集的均方差:\", mean_squared_error(y_test, ridge.predict(X_test)))\n"
      ]
    },
    {
      "cell_type": "markdown",
      "source": [
        "**结论：alpha参数对模型参数大小有影响，alpha越大，模型参数越小。**  <br>\n",
        "**alpha参数对模型的过拟合有一定的抑制作用，alpha越大，模型的过拟合程度越低。**"
      ],
      "metadata": {
        "id": "EHVfPZlT1NvC"
      },
      "id": "EHVfPZlT1NvC"
    },
    {
      "cell_type": "markdown",
      "id": "f993bb4c",
      "metadata": {
        "id": "f993bb4c"
      },
      "source": [
        "### Lasso回归模型"
      ]
    },
    {
      "cell_type": "markdown",
      "id": "3a1ccdf0",
      "metadata": {
        "id": "3a1ccdf0"
      },
      "source": [
        "(7)请用Lasso模型进行求解，alpha参数分别选用默认值1、200建模、训练，输出相应的模型参数(含截距)，所得结果与给定模型有多大差异？分别计算在训练集、测试集中的R方值及均方差，判断是否为过拟合、欠拟合？alpha参数是否影响模型参数个数？"
      ]
    },
    {
      "cell_type": "code",
      "execution_count": null,
      "id": "6ef33146",
      "metadata": {
        "colab": {
          "base_uri": "https://localhost:8080/"
        },
        "id": "6ef33146",
        "outputId": "d5dc6dcb-e4ae-4c1a-b45e-1f1cfe26cb44"
      },
      "outputs": [
        {
          "output_type": "stream",
          "name": "stdout",
          "text": [
            "Lasso模型(alpha=1)的参数 -1868.8307714608113 [ -71.72505145  -53.92958971 1283.59256171   -8.58333662]\n",
            "训练集的R方值 0.8352500025593228\n",
            "测试集的R方值 0.8328591012866532\n",
            "训练集的均方差 2742214.406318173\n",
            "测试集的均方差 3667469.6003822144\n",
            "Lasso模型(alpha=200)的参数 -2063.4104008605123 [ -41.33780993  -28.65642324 1256.75343446   -0.        ]\n",
            "训练集的R方值 0.8342507395735327\n",
            "测试集的R方值 0.8312336969119624\n",
            "训练集的均方差 2758846.8396893525\n",
            "测试集的均方差 3703134.845563948\n"
          ]
        }
      ],
      "source": [
        "# alpha=1\n",
        "lasso1 = Lasso(alpha=1, random_state=42)\n",
        "lasso1.fit(X_train, y_train)\n",
        "\n",
        "print('Lasso模型(alpha=1)的参数', lasso1.intercept_, lasso1.coef_)\n",
        "print('训练集的R方值', lasso1.score(X_train, y_train))\n",
        "print('测试集的R方值', lasso1.score(X_test, y_test))\n",
        "\n",
        "print('训练集的均方差', mean_squared_error(y_train, lasso1.predict(X_train)))\n",
        "print('测试集的均方差', mean_squared_error(y_test, lasso1.predict(X_test)))\n",
        "\n",
        "# alpha=200\n",
        "lasso200 = Lasso(alpha=200, random_state=42)\n",
        "lasso200.fit(X_train, y_train)\n",
        "\n",
        "print('Lasso模型(alpha=200)的参数', lasso200.intercept_, lasso200.coef_)\n",
        "print('训练集的R方值', lasso200.score(X_train, y_train))\n",
        "print('测试集的R方值', lasso200.score(X_test, y_test))\n",
        "\n",
        "print('训练集的均方差', mean_squared_error(y_train, lasso200.predict(X_train)))\n",
        "print('测试集的均方差', mean_squared_error(y_test, lasso200.predict(X_test)))"
      ]
    },
    {
      "cell_type": "code",
      "source": [
        "!jupyter nbconvert --to pdf <实验2_线性回归_2240709330_陈颂华.ipynb>.ipynb"
      ],
      "metadata": {
        "colab": {
          "base_uri": "https://localhost:8080/"
        },
        "id": "z4CPsFe7AN41",
        "outputId": "053c708b-34ab-4cc9-b12b-1f83806132f2"
      },
      "id": "z4CPsFe7AN41",
      "execution_count": null,
      "outputs": [
        {
          "output_type": "stream",
          "name": "stdout",
          "text": [
            "/bin/bash: line 1: 实验2_线性回归_2240709330_陈颂华.ipynb: No such file or directory\n"
          ]
        }
      ]
    },
    {
      "cell_type": "code",
      "source": [
        "!jupyter nbconvert --to pdf --output <实验2_线性回归_2240709330_陈颂华.ipynb>.pdf <实验2_线性回归_2240709330_陈颂华.ipynb>.ipynb"
      ],
      "metadata": {
        "colab": {
          "base_uri": "https://localhost:8080/"
        },
        "id": "oA0PcH0eAijM",
        "outputId": "01d8fde8-9bbf-4b21-aef0-c8f3f20918f1"
      },
      "id": "oA0PcH0eAijM",
      "execution_count": null,
      "outputs": [
        {
          "output_type": "stream",
          "name": "stdout",
          "text": [
            "/bin/bash: line 1: 实验2_线性回归_2240709330_陈颂华.ipynb: No such file or directory\n"
          ]
        }
      ]
    }
  ],
  "metadata": {
    "kernelspec": {
      "display_name": "Python 3 (ipykernel)",
      "language": "python",
      "name": "python3"
    },
    "language_info": {
      "codemirror_mode": {
        "name": "ipython",
        "version": 3
      },
      "file_extension": ".py",
      "mimetype": "text/x-python",
      "name": "python",
      "nbconvert_exporter": "python",
      "pygments_lexer": "ipython3",
      "version": "3.9.12"
    },
    "toc": {
      "base_numbering": 1,
      "nav_menu": {},
      "number_sections": true,
      "sideBar": true,
      "skip_h1_title": false,
      "title_cell": "Table of Contents",
      "title_sidebar": "Contents",
      "toc_cell": false,
      "toc_position": {
        "height": "calc(100% - 180px)",
        "left": "10px",
        "top": "150px",
        "width": "227.225px"
      },
      "toc_section_display": true,
      "toc_window_display": true
    },
    "varInspector": {
      "cols": {
        "lenName": 16,
        "lenType": 16,
        "lenVar": 40
      },
      "kernels_config": {
        "python": {
          "delete_cmd_postfix": "",
          "delete_cmd_prefix": "del ",
          "library": "var_list.py",
          "varRefreshCmd": "print(var_dic_list())"
        },
        "r": {
          "delete_cmd_postfix": ") ",
          "delete_cmd_prefix": "rm(",
          "library": "var_list.r",
          "varRefreshCmd": "cat(var_dic_list()) "
        }
      },
      "types_to_exclude": [
        "module",
        "function",
        "builtin_function_or_method",
        "instance",
        "_Feature"
      ],
      "window_display": false
    },
    "colab": {
      "provenance": []
    }
  },
  "nbformat": 4,
  "nbformat_minor": 5
}