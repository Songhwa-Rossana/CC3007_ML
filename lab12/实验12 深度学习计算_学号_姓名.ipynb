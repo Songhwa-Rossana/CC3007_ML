{
 "cells": [
  {
   "cell_type": "markdown",
   "id": "76bbda2a",
   "metadata": {},
   "source": [
    " <font size=6> **实验12 深度学习计算**</font>"
   ]
  },
  {
   "cell_type": "markdown",
   "id": "0fa8e7fb",
   "metadata": {},
   "source": [
    "- 理解深度学习中的层与块，能够自定义块，掌握顺序块使用和在前向传播函数中执行代码；\n",
    "- 掌握参数访问 、初始化和绑定的基本方法，理解延后初始化；\n",
    "- 理解层定义 方法，掌握张量、参数保存与加载方法；\n",
    "- 理解GPU在深度学习中的重要作用，掌握最基本使用方法。"
   ]
  },
  {
   "cell_type": "markdown",
   "id": "c9b2f0f4",
   "metadata": {},
   "source": [
    "**(实验报告提交题)** 在实验10、实验11中已要求对fetch_lfw_people数据集中选择的7位名人的脸部照片进行神经网络建模、改进。现要求，使用“块”(类)对程序进一步优化、封装，提高性能和可读性。"
   ]
  },
  {
   "cell_type": "markdown",
   "id": "d7938dd4",
   "metadata": {},
   "source": [
    "# 导入库"
   ]
  },
  {
   "cell_type": "code",
   "execution_count": null,
   "id": "fa0d4142",
   "metadata": {},
   "outputs": [],
   "source": []
  },
  {
   "cell_type": "markdown",
   "id": "a915ae91",
   "metadata": {},
   "source": [
    "# 数据处理"
   ]
  },
  {
   "cell_type": "markdown",
   "id": "25d161cb",
   "metadata": {},
   "source": [
    "## 加载数据"
   ]
  },
  {
   "cell_type": "code",
   "execution_count": null,
   "id": "87b22daa",
   "metadata": {},
   "outputs": [],
   "source": []
  },
  {
   "cell_type": "markdown",
   "id": "fb83f708",
   "metadata": {},
   "source": [
    "## 数据查看\n",
    "\n"
   ]
  },
  {
   "cell_type": "code",
   "execution_count": null,
   "id": "015c9056",
   "metadata": {},
   "outputs": [],
   "source": []
  },
  {
   "cell_type": "markdown",
   "id": "3e9a53b8",
   "metadata": {},
   "source": [
    "# 建模"
   ]
  },
  {
   "cell_type": "markdown",
   "id": "ae3ecfc7",
   "metadata": {},
   "source": [
    "## 定义一个MLP的类并实例化"
   ]
  },
  {
   "cell_type": "code",
   "execution_count": null,
   "id": "b297bcf7",
   "metadata": {},
   "outputs": [],
   "source": []
  },
  {
   "cell_type": "markdown",
   "id": "4a1d7cb2",
   "metadata": {},
   "source": [
    "## 初始化模型参数"
   ]
  },
  {
   "cell_type": "code",
   "execution_count": null,
   "id": "8ae2047c",
   "metadata": {},
   "outputs": [],
   "source": []
  },
  {
   "cell_type": "markdown",
   "id": "60275ed0",
   "metadata": {},
   "source": [
    "## 定义损失函数和优化算法"
   ]
  },
  {
   "cell_type": "code",
   "execution_count": null,
   "id": "9cedfd19",
   "metadata": {},
   "outputs": [],
   "source": []
  },
  {
   "cell_type": "markdown",
   "id": "d287a96b",
   "metadata": {},
   "source": [
    "## 训练"
   ]
  },
  {
   "cell_type": "code",
   "execution_count": null,
   "id": "532b0be7",
   "metadata": {},
   "outputs": [],
   "source": []
  },
  {
   "cell_type": "markdown",
   "id": "0d98ee57",
   "metadata": {},
   "source": [
    "## 模型保存"
   ]
  },
  {
   "cell_type": "code",
   "execution_count": null,
   "id": "f692af77",
   "metadata": {},
   "outputs": [],
   "source": []
  },
  {
   "cell_type": "markdown",
   "id": "0909342e",
   "metadata": {},
   "source": [
    "## 加载模型并做预测"
   ]
  },
  {
   "cell_type": "code",
   "execution_count": null,
   "id": "7edfdc4f",
   "metadata": {},
   "outputs": [],
   "source": []
  }
 ],
 "metadata": {
  "kernelspec": {
   "display_name": "Python 3 (ipykernel)",
   "language": "python",
   "name": "python3"
  },
  "language_info": {
   "codemirror_mode": {
    "name": "ipython",
    "version": 3
   },
   "file_extension": ".py",
   "mimetype": "text/x-python",
   "name": "python",
   "nbconvert_exporter": "python",
   "pygments_lexer": "ipython3",
   "version": "3.9.13"
  },
  "toc": {
   "base_numbering": 1,
   "nav_menu": {},
   "number_sections": true,
   "sideBar": true,
   "skip_h1_title": false,
   "title_cell": "Table of Contents",
   "title_sidebar": "Contents",
   "toc_cell": false,
   "toc_position": {
    "height": "calc(100% - 180px)",
    "left": "10px",
    "top": "150px",
    "width": "197px"
   },
   "toc_section_display": true,
   "toc_window_display": true
  },
  "varInspector": {
   "cols": {
    "lenName": 16,
    "lenType": 16,
    "lenVar": 40
   },
   "kernels_config": {
    "python": {
     "delete_cmd_postfix": "",
     "delete_cmd_prefix": "del ",
     "library": "var_list.py",
     "varRefreshCmd": "print(var_dic_list())"
    },
    "r": {
     "delete_cmd_postfix": ") ",
     "delete_cmd_prefix": "rm(",
     "library": "var_list.r",
     "varRefreshCmd": "cat(var_dic_list()) "
    }
   },
   "types_to_exclude": [
    "module",
    "function",
    "builtin_function_or_method",
    "instance",
    "_Feature"
   ],
   "window_display": false
  }
 },
 "nbformat": 4,
 "nbformat_minor": 5
}
